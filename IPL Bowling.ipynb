{
 "cells": [
  {
   "cell_type": "markdown",
   "id": "cc5793f7",
   "metadata": {},
   "source": [
    "# IPL Bowling Predictor"
   ]
  },
  {
   "cell_type": "code",
   "execution_count": 1,
   "id": "343752e5",
   "metadata": {},
   "outputs": [],
   "source": [
    "import pandas as pd"
   ]
  },
  {
   "cell_type": "code",
   "execution_count": 2,
   "id": "bd98ccf5",
   "metadata": {},
   "outputs": [],
   "source": [
    "ipl = pd.read_csv(\"bowlingdata.csv\")"
   ]
  },
  {
   "cell_type": "code",
   "execution_count": 3,
   "id": "6d228d4d",
   "metadata": {},
   "outputs": [
    {
     "data": {
      "text/html": [
       "<div>\n",
       "<style scoped>\n",
       "    .dataframe tbody tr th:only-of-type {\n",
       "        vertical-align: middle;\n",
       "    }\n",
       "\n",
       "    .dataframe tbody tr th {\n",
       "        vertical-align: top;\n",
       "    }\n",
       "\n",
       "    .dataframe thead th {\n",
       "        text-align: right;\n",
       "    }\n",
       "</style>\n",
       "<table border=\"1\" class=\"dataframe\">\n",
       "  <thead>\n",
       "    <tr style=\"text-align: right;\">\n",
       "      <th></th>\n",
       "      <th>MatchID</th>\n",
       "      <th>InningsNo</th>\n",
       "      <th>Overs</th>\n",
       "      <th>Maidens</th>\n",
       "      <th>Runs</th>\n",
       "      <th>Wickets</th>\n",
       "      <th>Wides</th>\n",
       "      <th>NoBalls</th>\n",
       "      <th>Economy</th>\n",
       "      <th>BowlingOrder</th>\n",
       "      <th>TotalLegalBallsBowled</th>\n",
       "      <th>DotBalls</th>\n",
       "      <th>Ones</th>\n",
       "      <th>Twos</th>\n",
       "      <th>Threes</th>\n",
       "      <th>Fours</th>\n",
       "      <th>Sixes</th>\n",
       "      <th>StrikeRate</th>\n",
       "    </tr>\n",
       "  </thead>\n",
       "  <tbody>\n",
       "    <tr>\n",
       "      <th>0</th>\n",
       "      <td>1</td>\n",
       "      <td>1</td>\n",
       "      <td>4.0</td>\n",
       "      <td>0</td>\n",
       "      <td>20</td>\n",
       "      <td>2</td>\n",
       "      <td>2</td>\n",
       "      <td>1</td>\n",
       "      <td>5.00</td>\n",
       "      <td>1</td>\n",
       "      <td>24</td>\n",
       "      <td>15</td>\n",
       "      <td>7</td>\n",
       "      <td>0</td>\n",
       "      <td>0</td>\n",
       "      <td>1</td>\n",
       "      <td>1</td>\n",
       "      <td>12.0</td>\n",
       "    </tr>\n",
       "    <tr>\n",
       "      <th>1</th>\n",
       "      <td>1</td>\n",
       "      <td>1</td>\n",
       "      <td>4.0</td>\n",
       "      <td>0</td>\n",
       "      <td>35</td>\n",
       "      <td>0</td>\n",
       "      <td>1</td>\n",
       "      <td>1</td>\n",
       "      <td>8.75</td>\n",
       "      <td>2</td>\n",
       "      <td>24</td>\n",
       "      <td>12</td>\n",
       "      <td>7</td>\n",
       "      <td>1</td>\n",
       "      <td>0</td>\n",
       "      <td>3</td>\n",
       "      <td>2</td>\n",
       "      <td>0.0</td>\n",
       "    </tr>\n",
       "    <tr>\n",
       "      <th>2</th>\n",
       "      <td>1</td>\n",
       "      <td>1</td>\n",
       "      <td>4.0</td>\n",
       "      <td>0</td>\n",
       "      <td>23</td>\n",
       "      <td>1</td>\n",
       "      <td>1</td>\n",
       "      <td>0</td>\n",
       "      <td>5.75</td>\n",
       "      <td>3</td>\n",
       "      <td>24</td>\n",
       "      <td>11</td>\n",
       "      <td>10</td>\n",
       "      <td>1</td>\n",
       "      <td>0</td>\n",
       "      <td>1</td>\n",
       "      <td>1</td>\n",
       "      <td>24.0</td>\n",
       "    </tr>\n",
       "    <tr>\n",
       "      <th>3</th>\n",
       "      <td>1</td>\n",
       "      <td>1</td>\n",
       "      <td>4.0</td>\n",
       "      <td>0</td>\n",
       "      <td>15</td>\n",
       "      <td>0</td>\n",
       "      <td>0</td>\n",
       "      <td>0</td>\n",
       "      <td>3.75</td>\n",
       "      <td>4</td>\n",
       "      <td>24</td>\n",
       "      <td>10</td>\n",
       "      <td>13</td>\n",
       "      <td>1</td>\n",
       "      <td>0</td>\n",
       "      <td>0</td>\n",
       "      <td>0</td>\n",
       "      <td>0.0</td>\n",
       "    </tr>\n",
       "    <tr>\n",
       "      <th>4</th>\n",
       "      <td>1</td>\n",
       "      <td>1</td>\n",
       "      <td>4.0</td>\n",
       "      <td>0</td>\n",
       "      <td>38</td>\n",
       "      <td>1</td>\n",
       "      <td>0</td>\n",
       "      <td>0</td>\n",
       "      <td>9.50</td>\n",
       "      <td>5</td>\n",
       "      <td>24</td>\n",
       "      <td>7</td>\n",
       "      <td>10</td>\n",
       "      <td>1</td>\n",
       "      <td>0</td>\n",
       "      <td>5</td>\n",
       "      <td>1</td>\n",
       "      <td>24.0</td>\n",
       "    </tr>\n",
       "  </tbody>\n",
       "</table>\n",
       "</div>"
      ],
      "text/plain": [
       "   MatchID  InningsNo  Overs  Maidens  Runs  Wickets  Wides  NoBalls  Economy  \\\n",
       "0        1          1    4.0        0    20        2      2        1     5.00   \n",
       "1        1          1    4.0        0    35        0      1        1     8.75   \n",
       "2        1          1    4.0        0    23        1      1        0     5.75   \n",
       "3        1          1    4.0        0    15        0      0        0     3.75   \n",
       "4        1          1    4.0        0    38        1      0        0     9.50   \n",
       "\n",
       "   BowlingOrder  TotalLegalBallsBowled  DotBalls  Ones  Twos  Threes  Fours  \\\n",
       "0             1                     24        15     7     0       0      1   \n",
       "1             2                     24        12     7     1       0      3   \n",
       "2             3                     24        11    10     1       0      1   \n",
       "3             4                     24        10    13     1       0      0   \n",
       "4             5                     24         7    10     1       0      5   \n",
       "\n",
       "   Sixes  StrikeRate  \n",
       "0      1        12.0  \n",
       "1      2         0.0  \n",
       "2      1        24.0  \n",
       "3      0         0.0  \n",
       "4      1        24.0  "
      ]
     },
     "execution_count": 3,
     "metadata": {},
     "output_type": "execute_result"
    }
   ],
   "source": [
    "ipl.head()"
   ]
  },
  {
   "cell_type": "code",
   "execution_count": 4,
   "id": "9085f037",
   "metadata": {},
   "outputs": [
    {
     "name": "stdout",
     "output_type": "stream",
     "text": [
      "<class 'pandas.core.frame.DataFrame'>\n",
      "RangeIndex: 857 entries, 0 to 856\n",
      "Data columns (total 18 columns):\n",
      " #   Column                 Non-Null Count  Dtype  \n",
      "---  ------                 --------------  -----  \n",
      " 0   MatchID                857 non-null    int64  \n",
      " 1   InningsNo              857 non-null    int64  \n",
      " 2   Overs                  857 non-null    float64\n",
      " 3   Maidens                857 non-null    int64  \n",
      " 4   Runs                   857 non-null    int64  \n",
      " 5   Wickets                857 non-null    int64  \n",
      " 6   Wides                  857 non-null    int64  \n",
      " 7   NoBalls                857 non-null    int64  \n",
      " 8   Economy                857 non-null    float64\n",
      " 9   BowlingOrder           857 non-null    int64  \n",
      " 10  TotalLegalBallsBowled  857 non-null    int64  \n",
      " 11  DotBalls               857 non-null    int64  \n",
      " 12  Ones                   857 non-null    int64  \n",
      " 13  Twos                   857 non-null    int64  \n",
      " 14  Threes                 857 non-null    int64  \n",
      " 15  Fours                  857 non-null    int64  \n",
      " 16  Sixes                  857 non-null    int64  \n",
      " 17  StrikeRate             857 non-null    float64\n",
      "dtypes: float64(3), int64(15)\n",
      "memory usage: 120.6 KB\n"
     ]
    }
   ],
   "source": [
    "ipl.info()"
   ]
  },
  {
   "cell_type": "code",
   "execution_count": 5,
   "id": "5a17cff4",
   "metadata": {},
   "outputs": [
    {
     "data": {
      "text/plain": [
       "23    36\n",
       "29    34\n",
       "32    33\n",
       "25    32\n",
       "20    30\n",
       "35    30\n",
       "31    30\n",
       "28    29\n",
       "24    29\n",
       "22    27\n",
       "36    26\n",
       "26    26\n",
       "30    26\n",
       "40    26\n",
       "34    24\n",
       "27    23\n",
       "14    23\n",
       "33    20\n",
       "21    19\n",
       "18    19\n",
       "19    19\n",
       "39    18\n",
       "43    17\n",
       "17    16\n",
       "37    16\n",
       "8     15\n",
       "15    15\n",
       "42    14\n",
       "38    14\n",
       "11    14\n",
       "10    12\n",
       "13    11\n",
       "44    11\n",
       "16    11\n",
       "41    10\n",
       "47    10\n",
       "12    10\n",
       "48     9\n",
       "7      9\n",
       "45     9\n",
       "6      8\n",
       "46     8\n",
       "50     6\n",
       "52     5\n",
       "9      5\n",
       "5      4\n",
       "51     3\n",
       "49     2\n",
       "57     2\n",
       "58     2\n",
       "54     2\n",
       "60     2\n",
       "0      1\n",
       "59     1\n",
       "1      1\n",
       "4      1\n",
       "63     1\n",
       "64     1\n",
       "Name: Runs, dtype: int64"
      ]
     },
     "execution_count": 5,
     "metadata": {},
     "output_type": "execute_result"
    }
   ],
   "source": [
    "ipl['Runs'].value_counts()"
   ]
  },
  {
   "cell_type": "code",
   "execution_count": 6,
   "id": "934d69ad",
   "metadata": {},
   "outputs": [
    {
     "data": {
      "text/html": [
       "<div>\n",
       "<style scoped>\n",
       "    .dataframe tbody tr th:only-of-type {\n",
       "        vertical-align: middle;\n",
       "    }\n",
       "\n",
       "    .dataframe tbody tr th {\n",
       "        vertical-align: top;\n",
       "    }\n",
       "\n",
       "    .dataframe thead th {\n",
       "        text-align: right;\n",
       "    }\n",
       "</style>\n",
       "<table border=\"1\" class=\"dataframe\">\n",
       "  <thead>\n",
       "    <tr style=\"text-align: right;\">\n",
       "      <th></th>\n",
       "      <th>MatchID</th>\n",
       "      <th>InningsNo</th>\n",
       "      <th>Overs</th>\n",
       "      <th>Maidens</th>\n",
       "      <th>Runs</th>\n",
       "      <th>Wickets</th>\n",
       "      <th>Wides</th>\n",
       "      <th>NoBalls</th>\n",
       "      <th>Economy</th>\n",
       "      <th>BowlingOrder</th>\n",
       "      <th>TotalLegalBallsBowled</th>\n",
       "      <th>DotBalls</th>\n",
       "      <th>Ones</th>\n",
       "      <th>Twos</th>\n",
       "      <th>Threes</th>\n",
       "      <th>Fours</th>\n",
       "      <th>Sixes</th>\n",
       "      <th>StrikeRate</th>\n",
       "    </tr>\n",
       "  </thead>\n",
       "  <tbody>\n",
       "    <tr>\n",
       "      <th>count</th>\n",
       "      <td>857.00000</td>\n",
       "      <td>857.000000</td>\n",
       "      <td>857.000000</td>\n",
       "      <td>857.000000</td>\n",
       "      <td>857.000000</td>\n",
       "      <td>857.000000</td>\n",
       "      <td>857.000000</td>\n",
       "      <td>857.000000</td>\n",
       "      <td>857.000000</td>\n",
       "      <td>857.000000</td>\n",
       "      <td>857.000000</td>\n",
       "      <td>857.000000</td>\n",
       "      <td>857.000000</td>\n",
       "      <td>857.000000</td>\n",
       "      <td>857.000000</td>\n",
       "      <td>857.000000</td>\n",
       "      <td>857.000000</td>\n",
       "      <td>857.000000</td>\n",
       "    </tr>\n",
       "    <tr>\n",
       "      <th>mean</th>\n",
       "      <td>37.36056</td>\n",
       "      <td>1.500583</td>\n",
       "      <td>3.322520</td>\n",
       "      <td>0.032672</td>\n",
       "      <td>27.987165</td>\n",
       "      <td>0.990665</td>\n",
       "      <td>0.819137</td>\n",
       "      <td>0.084014</td>\n",
       "      <td>8.719253</td>\n",
       "      <td>3.427071</td>\n",
       "      <td>19.997666</td>\n",
       "      <td>7.737456</td>\n",
       "      <td>7.449242</td>\n",
       "      <td>1.191365</td>\n",
       "      <td>0.067678</td>\n",
       "      <td>2.439907</td>\n",
       "      <td>1.239207</td>\n",
       "      <td>9.571027</td>\n",
       "    </tr>\n",
       "    <tr>\n",
       "      <th>std</th>\n",
       "      <td>21.52524</td>\n",
       "      <td>0.500292</td>\n",
       "      <td>1.001841</td>\n",
       "      <td>0.184331</td>\n",
       "      <td>11.262110</td>\n",
       "      <td>1.074299</td>\n",
       "      <td>1.098515</td>\n",
       "      <td>0.301769</td>\n",
       "      <td>3.348249</td>\n",
       "      <td>1.703382</td>\n",
       "      <td>5.974439</td>\n",
       "      <td>3.876289</td>\n",
       "      <td>3.640383</td>\n",
       "      <td>1.183323</td>\n",
       "      <td>0.277831</td>\n",
       "      <td>1.724329</td>\n",
       "      <td>1.181023</td>\n",
       "      <td>9.633395</td>\n",
       "    </tr>\n",
       "    <tr>\n",
       "      <th>min</th>\n",
       "      <td>1.00000</td>\n",
       "      <td>1.000000</td>\n",
       "      <td>0.100000</td>\n",
       "      <td>0.000000</td>\n",
       "      <td>0.000000</td>\n",
       "      <td>0.000000</td>\n",
       "      <td>0.000000</td>\n",
       "      <td>0.000000</td>\n",
       "      <td>0.000000</td>\n",
       "      <td>1.000000</td>\n",
       "      <td>1.000000</td>\n",
       "      <td>0.000000</td>\n",
       "      <td>0.000000</td>\n",
       "      <td>0.000000</td>\n",
       "      <td>0.000000</td>\n",
       "      <td>0.000000</td>\n",
       "      <td>0.000000</td>\n",
       "      <td>0.000000</td>\n",
       "    </tr>\n",
       "    <tr>\n",
       "      <th>25%</th>\n",
       "      <td>19.00000</td>\n",
       "      <td>1.000000</td>\n",
       "      <td>3.000000</td>\n",
       "      <td>0.000000</td>\n",
       "      <td>20.000000</td>\n",
       "      <td>0.000000</td>\n",
       "      <td>0.000000</td>\n",
       "      <td>0.000000</td>\n",
       "      <td>6.500000</td>\n",
       "      <td>2.000000</td>\n",
       "      <td>18.000000</td>\n",
       "      <td>5.000000</td>\n",
       "      <td>5.000000</td>\n",
       "      <td>0.000000</td>\n",
       "      <td>0.000000</td>\n",
       "      <td>1.000000</td>\n",
       "      <td>0.000000</td>\n",
       "      <td>0.000000</td>\n",
       "    </tr>\n",
       "    <tr>\n",
       "      <th>50%</th>\n",
       "      <td>37.00000</td>\n",
       "      <td>2.000000</td>\n",
       "      <td>4.000000</td>\n",
       "      <td>0.000000</td>\n",
       "      <td>28.000000</td>\n",
       "      <td>1.000000</td>\n",
       "      <td>0.000000</td>\n",
       "      <td>0.000000</td>\n",
       "      <td>8.330000</td>\n",
       "      <td>3.000000</td>\n",
       "      <td>24.000000</td>\n",
       "      <td>8.000000</td>\n",
       "      <td>7.000000</td>\n",
       "      <td>1.000000</td>\n",
       "      <td>0.000000</td>\n",
       "      <td>2.000000</td>\n",
       "      <td>1.000000</td>\n",
       "      <td>8.000000</td>\n",
       "    </tr>\n",
       "    <tr>\n",
       "      <th>75%</th>\n",
       "      <td>56.00000</td>\n",
       "      <td>2.000000</td>\n",
       "      <td>4.000000</td>\n",
       "      <td>0.000000</td>\n",
       "      <td>36.000000</td>\n",
       "      <td>2.000000</td>\n",
       "      <td>1.000000</td>\n",
       "      <td>0.000000</td>\n",
       "      <td>10.500000</td>\n",
       "      <td>5.000000</td>\n",
       "      <td>24.000000</td>\n",
       "      <td>10.000000</td>\n",
       "      <td>10.000000</td>\n",
       "      <td>2.000000</td>\n",
       "      <td>0.000000</td>\n",
       "      <td>4.000000</td>\n",
       "      <td>2.000000</td>\n",
       "      <td>18.000000</td>\n",
       "    </tr>\n",
       "    <tr>\n",
       "      <th>max</th>\n",
       "      <td>76.00000</td>\n",
       "      <td>2.000000</td>\n",
       "      <td>4.000000</td>\n",
       "      <td>2.000000</td>\n",
       "      <td>64.000000</td>\n",
       "      <td>5.000000</td>\n",
       "      <td>6.000000</td>\n",
       "      <td>2.000000</td>\n",
       "      <td>36.000000</td>\n",
       "      <td>8.000000</td>\n",
       "      <td>24.000000</td>\n",
       "      <td>19.000000</td>\n",
       "      <td>18.000000</td>\n",
       "      <td>7.000000</td>\n",
       "      <td>3.000000</td>\n",
       "      <td>9.000000</td>\n",
       "      <td>6.000000</td>\n",
       "      <td>24.000000</td>\n",
       "    </tr>\n",
       "  </tbody>\n",
       "</table>\n",
       "</div>"
      ],
      "text/plain": [
       "         MatchID   InningsNo       Overs     Maidens        Runs     Wickets  \\\n",
       "count  857.00000  857.000000  857.000000  857.000000  857.000000  857.000000   \n",
       "mean    37.36056    1.500583    3.322520    0.032672   27.987165    0.990665   \n",
       "std     21.52524    0.500292    1.001841    0.184331   11.262110    1.074299   \n",
       "min      1.00000    1.000000    0.100000    0.000000    0.000000    0.000000   \n",
       "25%     19.00000    1.000000    3.000000    0.000000   20.000000    0.000000   \n",
       "50%     37.00000    2.000000    4.000000    0.000000   28.000000    1.000000   \n",
       "75%     56.00000    2.000000    4.000000    0.000000   36.000000    2.000000   \n",
       "max     76.00000    2.000000    4.000000    2.000000   64.000000    5.000000   \n",
       "\n",
       "            Wides     NoBalls     Economy  BowlingOrder  \\\n",
       "count  857.000000  857.000000  857.000000    857.000000   \n",
       "mean     0.819137    0.084014    8.719253      3.427071   \n",
       "std      1.098515    0.301769    3.348249      1.703382   \n",
       "min      0.000000    0.000000    0.000000      1.000000   \n",
       "25%      0.000000    0.000000    6.500000      2.000000   \n",
       "50%      0.000000    0.000000    8.330000      3.000000   \n",
       "75%      1.000000    0.000000   10.500000      5.000000   \n",
       "max      6.000000    2.000000   36.000000      8.000000   \n",
       "\n",
       "       TotalLegalBallsBowled    DotBalls        Ones        Twos      Threes  \\\n",
       "count             857.000000  857.000000  857.000000  857.000000  857.000000   \n",
       "mean               19.997666    7.737456    7.449242    1.191365    0.067678   \n",
       "std                 5.974439    3.876289    3.640383    1.183323    0.277831   \n",
       "min                 1.000000    0.000000    0.000000    0.000000    0.000000   \n",
       "25%                18.000000    5.000000    5.000000    0.000000    0.000000   \n",
       "50%                24.000000    8.000000    7.000000    1.000000    0.000000   \n",
       "75%                24.000000   10.000000   10.000000    2.000000    0.000000   \n",
       "max                24.000000   19.000000   18.000000    7.000000    3.000000   \n",
       "\n",
       "            Fours       Sixes  StrikeRate  \n",
       "count  857.000000  857.000000  857.000000  \n",
       "mean     2.439907    1.239207    9.571027  \n",
       "std      1.724329    1.181023    9.633395  \n",
       "min      0.000000    0.000000    0.000000  \n",
       "25%      1.000000    0.000000    0.000000  \n",
       "50%      2.000000    1.000000    8.000000  \n",
       "75%      4.000000    2.000000   18.000000  \n",
       "max      9.000000    6.000000   24.000000  "
      ]
     },
     "execution_count": 6,
     "metadata": {},
     "output_type": "execute_result"
    }
   ],
   "source": [
    "ipl.describe()"
   ]
  },
  {
   "cell_type": "code",
   "execution_count": 7,
   "id": "3916d972",
   "metadata": {},
   "outputs": [],
   "source": [
    "%matplotlib inline"
   ]
  },
  {
   "cell_type": "markdown",
   "id": "669df795",
   "metadata": {},
   "source": [
    "# Train-Test Splitting"
   ]
  },
  {
   "cell_type": "code",
   "execution_count": 8,
   "id": "e1b2b3df",
   "metadata": {},
   "outputs": [],
   "source": [
    "# For learning purpose\n",
    "import numpy as np\n",
    "def split_train_test(data, test_ratio):\n",
    "    np.random.seed(42)\n",
    "    shuffled = np.random.permutation(len(data))\n",
    "    print(shuffled)\n",
    "    test_set_size = int(len(data) * test_ratio)\n",
    "    test_indices = shuffled[:test_set_size]\n",
    "    train_indices = shuffled[test_set_size:] \n",
    "    return data.iloc[train_indices], data.iloc[test_indices]"
   ]
  },
  {
   "cell_type": "code",
   "execution_count": 9,
   "id": "c4416853",
   "metadata": {},
   "outputs": [
    {
     "name": "stdout",
     "output_type": "stream",
     "text": [
      "Rows in train set: 685\n",
      "Rows in test set: 172\n",
      "\n"
     ]
    }
   ],
   "source": [
    "from sklearn.model_selection import train_test_split\n",
    "train_set, test_set  = train_test_split(ipl, test_size=0.2, random_state=42)\n",
    "print(f\"Rows in train set: {len(train_set)}\\nRows in test set: {len(test_set)}\\n\")"
   ]
  },
  {
   "cell_type": "code",
   "execution_count": 10,
   "id": "d46343e2",
   "metadata": {},
   "outputs": [
    {
     "name": "stdout",
     "output_type": "stream",
     "text": [
      "571    286\n",
      "571    286\n",
      "572    285\n"
     ]
    }
   ],
   "source": [
    "from sklearn.model_selection import KFold\n",
    "kf=KFold(n_splits=3)\n",
    "for train_index,test_index in kf.split(ipl):\n",
    "    print(len(train_index),\"  \",len(test_index))"
   ]
  },
  {
   "cell_type": "code",
   "execution_count": 11,
   "id": "51ffa42a",
   "metadata": {},
   "outputs": [
    {
     "name": "stdout",
     "output_type": "stream",
     "text": [
      "<class 'pandas.core.frame.DataFrame'>\n"
     ]
    }
   ],
   "source": [
    "from sklearn.model_selection import StratifiedShuffleSplit\n",
    "split = StratifiedShuffleSplit(n_splits=1, test_size=0.2, random_state=42)\n",
    "for train_index, test_index in split.split(ipl, ipl['Ones']):\n",
    "    strat_train_set = ipl.loc[train_index]\n",
    "    strat_test_set = ipl.loc[test_index]\n",
    "    \n",
    "print(type(strat_test_set))"
   ]
  },
  {
   "cell_type": "code",
   "execution_count": 12,
   "id": "f3bbe1bf",
   "metadata": {},
   "outputs": [
    {
     "data": {
      "text/plain": [
       "8     19\n",
       "6     18\n",
       "7     17\n",
       "4     15\n",
       "9     15\n",
       "5     14\n",
       "10    12\n",
       "11    11\n",
       "3     11\n",
       "13     8\n",
       "2      8\n",
       "12     8\n",
       "14     6\n",
       "1      5\n",
       "15     2\n",
       "16     2\n",
       "0      1\n",
       "Name: Ones, dtype: int64"
      ]
     },
     "execution_count": 12,
     "metadata": {},
     "output_type": "execute_result"
    }
   ],
   "source": [
    "strat_test_set['Ones'].value_counts()"
   ]
  },
  {
   "cell_type": "code",
   "execution_count": 13,
   "id": "451dd678",
   "metadata": {},
   "outputs": [
    {
     "data": {
      "text/plain": [
       "8     77\n",
       "6     72\n",
       "7     68\n",
       "4     59\n",
       "5     58\n",
       "9     57\n",
       "10    46\n",
       "3     43\n",
       "11    42\n",
       "2     34\n",
       "12    32\n",
       "13    30\n",
       "14    22\n",
       "1     19\n",
       "15    10\n",
       "16     6\n",
       "0      6\n",
       "17     2\n",
       "18     2\n",
       "Name: Ones, dtype: int64"
      ]
     },
     "execution_count": 13,
     "metadata": {},
     "output_type": "execute_result"
    }
   ],
   "source": [
    "strat_train_set['Ones'].value_counts()"
   ]
  },
  {
   "cell_type": "code",
   "execution_count": 14,
   "id": "91393be3",
   "metadata": {},
   "outputs": [],
   "source": [
    "ipl = strat_train_set.copy()"
   ]
  },
  {
   "cell_type": "markdown",
   "id": "69cbbf74",
   "metadata": {},
   "source": [
    "# Looking for Correlations"
   ]
  },
  {
   "cell_type": "code",
   "execution_count": 15,
   "id": "cbb6331f",
   "metadata": {},
   "outputs": [
    {
     "name": "stdout",
     "output_type": "stream",
     "text": [
      "                        MatchID  InningsNo     Overs   Maidens      Runs  \\\n",
      "MatchID                1.000000  -0.026172  0.018199 -0.024296  0.003813   \n",
      "InningsNo             -0.026172   1.000000 -0.110960  0.016570 -0.110598   \n",
      "Overs                  0.018199  -0.110960  1.000000  0.100640  0.576475   \n",
      "Maidens               -0.024296   0.016570  0.100640  1.000000 -0.125722   \n",
      "Runs                   0.003813  -0.110598  0.576475 -0.125722  1.000000   \n",
      "Wickets               -0.021871  -0.005704  0.335374  0.170126 -0.035012   \n",
      "Wides                  0.021902  -0.031627  0.270499 -0.035995  0.324683   \n",
      "NoBalls               -0.074298  -0.055689  0.074164 -0.000806  0.222548   \n",
      "Economy               -0.057992   0.020632 -0.351110 -0.184816  0.448760   \n",
      "BowlingOrder          -0.023326  -0.014344 -0.382578 -0.077397 -0.241113   \n",
      "TotalLegalBallsBowled  0.017488  -0.104421  0.999143  0.099637  0.579127   \n",
      "DotBalls              -0.014593  -0.036149  0.682599  0.306025  0.044748   \n",
      "Ones                   0.069999  -0.071079  0.609924 -0.097321  0.319006   \n",
      "Twos                  -0.072598  -0.056646  0.312837 -0.097671  0.257628   \n",
      "Threes                -0.045221  -0.014471  0.094604  0.013870  0.053900   \n",
      "Fours                 -0.001651  -0.040508  0.305536 -0.029558  0.633400   \n",
      "Sixes                 -0.007400  -0.069580  0.147310 -0.080728  0.656436   \n",
      "StrikeRate             0.007749  -0.067840  0.436100  0.028698  0.180699   \n",
      "\n",
      "                        Wickets     Wides   NoBalls   Economy  BowlingOrder  \\\n",
      "MatchID               -0.021871  0.021902 -0.074298 -0.057992     -0.023326   \n",
      "InningsNo             -0.005704 -0.031627 -0.055689  0.020632     -0.014344   \n",
      "Overs                  0.335374  0.270499  0.074164 -0.351110     -0.382578   \n",
      "Maidens                0.170126 -0.035995 -0.000806 -0.184816     -0.077397   \n",
      "Runs                  -0.035012  0.324683  0.222548  0.448760     -0.241113   \n",
      "Wickets                1.000000  0.117536 -0.046719 -0.329119     -0.032385   \n",
      "Wides                  0.117536  1.000000  0.013677  0.080244     -0.126967   \n",
      "NoBalls               -0.046719  0.013677  1.000000  0.136491     -0.090271   \n",
      "Economy               -0.329119  0.080244  0.136491  1.000000      0.140422   \n",
      "BowlingOrder          -0.032385 -0.126967 -0.090271  0.140422      1.000000   \n",
      "TotalLegalBallsBowled  0.337158  0.271226  0.076100 -0.348714     -0.382548   \n",
      "DotBalls               0.493606  0.182738  0.038873 -0.565548     -0.440067   \n",
      "Ones                   0.042902  0.104153 -0.014149 -0.261870      0.030618   \n",
      "Twos                   0.050387  0.106365  0.043528 -0.042041     -0.074184   \n",
      "Threes                 0.087598  0.111021 -0.029128 -0.032422     -0.105802   \n",
      "Fours                 -0.030253  0.173740  0.164175  0.322199     -0.343384   \n",
      "Sixes                 -0.080120  0.091465  0.147066  0.533307     -0.006911   \n",
      "StrikeRate             0.346150  0.131532  0.015183 -0.213899     -0.151820   \n",
      "\n",
      "                       TotalLegalBallsBowled  DotBalls      Ones      Twos  \\\n",
      "MatchID                             0.017488 -0.014593  0.069999 -0.072598   \n",
      "InningsNo                          -0.104421 -0.036149 -0.071079 -0.056646   \n",
      "Overs                               0.999143  0.682599  0.609924  0.312837   \n",
      "Maidens                             0.099637  0.306025 -0.097321 -0.097671   \n",
      "Runs                                0.579127  0.044748  0.319006  0.257628   \n",
      "Wickets                             0.337158  0.493606  0.042902  0.050387   \n",
      "Wides                               0.271226  0.182738  0.104153  0.106365   \n",
      "NoBalls                             0.076100  0.038873 -0.014149  0.043528   \n",
      "Economy                            -0.348714 -0.565548 -0.261870 -0.042041   \n",
      "BowlingOrder                       -0.382548 -0.440067  0.030618 -0.074184   \n",
      "TotalLegalBallsBowled               1.000000  0.682499  0.609631  0.314308   \n",
      "DotBalls                            0.682499  1.000000 -0.002150  0.075616   \n",
      "Ones                                0.609631 -0.002150  1.000000  0.106735   \n",
      "Twos                                0.314308  0.075616  0.106735  1.000000   \n",
      "Threes                              0.094971  0.123769 -0.069466  0.092487   \n",
      "Fours                               0.306738  0.102780 -0.071323 -0.010191   \n",
      "Sixes                               0.149600 -0.091815  0.020858 -0.001165   \n",
      "StrikeRate                          0.435377  0.375179  0.203860  0.219400   \n",
      "\n",
      "                         Threes     Fours     Sixes  StrikeRate  \n",
      "MatchID               -0.045221 -0.001651 -0.007400    0.007749  \n",
      "InningsNo             -0.014471 -0.040508 -0.069580   -0.067840  \n",
      "Overs                  0.094604  0.305536  0.147310    0.436100  \n",
      "Maidens                0.013870 -0.029558 -0.080728    0.028698  \n",
      "Runs                   0.053900  0.633400  0.656436    0.180699  \n",
      "Wickets                0.087598 -0.030253 -0.080120    0.346150  \n",
      "Wides                  0.111021  0.173740  0.091465    0.131532  \n",
      "NoBalls               -0.029128  0.164175  0.147066    0.015183  \n",
      "Economy               -0.032422  0.322199  0.533307   -0.213899  \n",
      "BowlingOrder          -0.105802 -0.343384 -0.006911   -0.151820  \n",
      "TotalLegalBallsBowled  0.094971  0.306738  0.149600    0.435377  \n",
      "DotBalls               0.123769  0.102780 -0.091815    0.375179  \n",
      "Ones                  -0.069466 -0.071323  0.020858    0.203860  \n",
      "Twos                   0.092487 -0.010191 -0.001165    0.219400  \n",
      "Threes                 1.000000 -0.014168 -0.028382    0.020452  \n",
      "Fours                 -0.014168  1.000000  0.037341    0.066250  \n",
      "Sixes                 -0.028382  0.037341  1.000000    0.026972  \n",
      "StrikeRate             0.020452  0.066250  0.026972    1.000000  \n"
     ]
    },
    {
     "data": {
      "text/plain": [
       "DotBalls                 1.000000\n",
       "Overs                    0.682599\n",
       "TotalLegalBallsBowled    0.682499\n",
       "Wickets                  0.493606\n",
       "StrikeRate               0.375179\n",
       "Maidens                  0.306025\n",
       "Wides                    0.182738\n",
       "Threes                   0.123769\n",
       "Fours                    0.102780\n",
       "Twos                     0.075616\n",
       "Runs                     0.044748\n",
       "NoBalls                  0.038873\n",
       "Ones                    -0.002150\n",
       "MatchID                 -0.014593\n",
       "InningsNo               -0.036149\n",
       "Sixes                   -0.091815\n",
       "BowlingOrder            -0.440067\n",
       "Economy                 -0.565548\n",
       "Name: DotBalls, dtype: float64"
      ]
     },
     "execution_count": 15,
     "metadata": {},
     "output_type": "execute_result"
    }
   ],
   "source": [
    "corr_matrix = ipl.corr()\n",
    "print(corr_matrix)\n",
    "corr_matrix['DotBalls'].sort_values(ascending=False)"
   ]
  },
  {
   "cell_type": "code",
   "execution_count": 16,
   "id": "f93d8be7",
   "metadata": {},
   "outputs": [
    {
     "data": {
      "text/plain": [
       "array([[<AxesSubplot:xlabel='DotBalls', ylabel='DotBalls'>,\n",
       "        <AxesSubplot:xlabel='Economy', ylabel='DotBalls'>,\n",
       "        <AxesSubplot:xlabel='BowlingOrder', ylabel='DotBalls'>,\n",
       "        <AxesSubplot:xlabel='Runs', ylabel='DotBalls'>],\n",
       "       [<AxesSubplot:xlabel='DotBalls', ylabel='Economy'>,\n",
       "        <AxesSubplot:xlabel='Economy', ylabel='Economy'>,\n",
       "        <AxesSubplot:xlabel='BowlingOrder', ylabel='Economy'>,\n",
       "        <AxesSubplot:xlabel='Runs', ylabel='Economy'>],\n",
       "       [<AxesSubplot:xlabel='DotBalls', ylabel='BowlingOrder'>,\n",
       "        <AxesSubplot:xlabel='Economy', ylabel='BowlingOrder'>,\n",
       "        <AxesSubplot:xlabel='BowlingOrder', ylabel='BowlingOrder'>,\n",
       "        <AxesSubplot:xlabel='Runs', ylabel='BowlingOrder'>],\n",
       "       [<AxesSubplot:xlabel='DotBalls', ylabel='Runs'>,\n",
       "        <AxesSubplot:xlabel='Economy', ylabel='Runs'>,\n",
       "        <AxesSubplot:xlabel='BowlingOrder', ylabel='Runs'>,\n",
       "        <AxesSubplot:xlabel='Runs', ylabel='Runs'>]], dtype=object)"
      ]
     },
     "execution_count": 16,
     "metadata": {},
     "output_type": "execute_result"
    },
    {
     "data": {
      "image/png": "[encoded data removed]",
      "text/plain": [
       "<Figure size 864x576 with 16 Axes>"
      ]
     },
     "metadata": {
      "needs_background": "light"
     },
     "output_type": "display_data"
    }
   ],
   "source": [
    "from pandas.plotting import scatter_matrix\n",
    "attributes = [\"DotBalls\", \"Economy\", \"BowlingOrder\", \"Runs\"]\n",
    "scatter_matrix(ipl[attributes], figsize = (12,8))"
   ]
  },
  {
   "cell_type": "code",
   "execution_count": 17,
   "id": "26b93ba3",
   "metadata": {},
   "outputs": [
    {
     "data": {
      "image/png": "[encoded data removed]",
      "text/plain": [
       "<Figure size 432x288 with 1 Axes>"
      ]
     },
     "metadata": {
      "needs_background": "light"
     },
     "output_type": "display_data"
    },
    {
     "data": {
      "image/png": "[encoded data removed]",
      "text/plain": [
       "<Figure size 432x288 with 1 Axes>"
      ]
     },
     "metadata": {
      "needs_background": "light"
     },
     "output_type": "display_data"
    }
   ],
   "source": [
    "import matplotlib.pyplot as plt\n",
    "%matplotlib inline\n",
    "ipl.plot(kind=\"scatter\", x=\"Economy\", y=\"DotBalls\", alpha=0.8)\n",
    "plt.show()\n",
    "plt.scatter(ipl['Runs'],ipl['DotBalls'],c='r',alpha=0.5)\n",
    "plt.show()"
   ]
  },
  {
   "cell_type": "markdown",
   "id": "17827772",
   "metadata": {},
   "source": [
    "# Trying out Attribute combinations"
   ]
  },
  {
   "cell_type": "code",
   "execution_count": 18,
   "id": "4b132373",
   "metadata": {},
   "outputs": [],
   "source": [
    "ipl[\"EconomyDotBalls\"] = ipl['Economy']/ipl['DotBalls']"
   ]
  },
  {
   "cell_type": "code",
   "execution_count": 19,
   "id": "3e646ee2",
   "metadata": {},
   "outputs": [
    {
     "data": {
      "text/html": [
       "<div>\n",
       "<style scoped>\n",
       "    .dataframe tbody tr th:only-of-type {\n",
       "        vertical-align: middle;\n",
       "    }\n",
       "\n",
       "    .dataframe tbody tr th {\n",
       "        vertical-align: top;\n",
       "    }\n",
       "\n",
       "    .dataframe thead th {\n",
       "        text-align: right;\n",
       "    }\n",
       "</style>\n",
       "<table border=\"1\" class=\"dataframe\">\n",
       "  <thead>\n",
       "    <tr style=\"text-align: right;\">\n",
       "      <th></th>\n",
       "      <th>MatchID</th>\n",
       "      <th>InningsNo</th>\n",
       "      <th>Overs</th>\n",
       "      <th>Maidens</th>\n",
       "      <th>Runs</th>\n",
       "      <th>Wickets</th>\n",
       "      <th>Wides</th>\n",
       "      <th>NoBalls</th>\n",
       "      <th>Economy</th>\n",
       "      <th>BowlingOrder</th>\n",
       "      <th>TotalLegalBallsBowled</th>\n",
       "      <th>DotBalls</th>\n",
       "      <th>Ones</th>\n",
       "      <th>Twos</th>\n",
       "      <th>Threes</th>\n",
       "      <th>Fours</th>\n",
       "      <th>Sixes</th>\n",
       "      <th>StrikeRate</th>\n",
       "      <th>EconomyDotBalls</th>\n",
       "    </tr>\n",
       "  </thead>\n",
       "  <tbody>\n",
       "    <tr>\n",
       "      <th>258</th>\n",
       "      <td>22</td>\n",
       "      <td>2</td>\n",
       "      <td>2.0</td>\n",
       "      <td>0</td>\n",
       "      <td>20</td>\n",
       "      <td>0</td>\n",
       "      <td>0</td>\n",
       "      <td>0</td>\n",
       "      <td>10.00</td>\n",
       "      <td>5</td>\n",
       "      <td>12</td>\n",
       "      <td>2</td>\n",
       "      <td>6</td>\n",
       "      <td>1</td>\n",
       "      <td>0</td>\n",
       "      <td>3</td>\n",
       "      <td>0</td>\n",
       "      <td>0.0</td>\n",
       "      <td>5.000000</td>\n",
       "    </tr>\n",
       "    <tr>\n",
       "      <th>446</th>\n",
       "      <td>39</td>\n",
       "      <td>1</td>\n",
       "      <td>4.0</td>\n",
       "      <td>0</td>\n",
       "      <td>33</td>\n",
       "      <td>1</td>\n",
       "      <td>0</td>\n",
       "      <td>0</td>\n",
       "      <td>8.25</td>\n",
       "      <td>5</td>\n",
       "      <td>24</td>\n",
       "      <td>6</td>\n",
       "      <td>13</td>\n",
       "      <td>2</td>\n",
       "      <td>0</td>\n",
       "      <td>1</td>\n",
       "      <td>2</td>\n",
       "      <td>24.0</td>\n",
       "      <td>1.375000</td>\n",
       "    </tr>\n",
       "    <tr>\n",
       "      <th>80</th>\n",
       "      <td>7</td>\n",
       "      <td>2</td>\n",
       "      <td>4.0</td>\n",
       "      <td>0</td>\n",
       "      <td>31</td>\n",
       "      <td>2</td>\n",
       "      <td>3</td>\n",
       "      <td>0</td>\n",
       "      <td>7.75</td>\n",
       "      <td>6</td>\n",
       "      <td>24</td>\n",
       "      <td>9</td>\n",
       "      <td>8</td>\n",
       "      <td>5</td>\n",
       "      <td>0</td>\n",
       "      <td>1</td>\n",
       "      <td>1</td>\n",
       "      <td>12.0</td>\n",
       "      <td>0.861111</td>\n",
       "    </tr>\n",
       "    <tr>\n",
       "      <th>534</th>\n",
       "      <td>46</td>\n",
       "      <td>2</td>\n",
       "      <td>3.0</td>\n",
       "      <td>0</td>\n",
       "      <td>36</td>\n",
       "      <td>1</td>\n",
       "      <td>0</td>\n",
       "      <td>0</td>\n",
       "      <td>12.00</td>\n",
       "      <td>3</td>\n",
       "      <td>18</td>\n",
       "      <td>4</td>\n",
       "      <td>8</td>\n",
       "      <td>1</td>\n",
       "      <td>0</td>\n",
       "      <td>2</td>\n",
       "      <td>3</td>\n",
       "      <td>18.0</td>\n",
       "      <td>3.000000</td>\n",
       "    </tr>\n",
       "    <tr>\n",
       "      <th>294</th>\n",
       "      <td>25</td>\n",
       "      <td>2</td>\n",
       "      <td>3.0</td>\n",
       "      <td>0</td>\n",
       "      <td>45</td>\n",
       "      <td>0</td>\n",
       "      <td>0</td>\n",
       "      <td>0</td>\n",
       "      <td>15.00</td>\n",
       "      <td>5</td>\n",
       "      <td>18</td>\n",
       "      <td>2</td>\n",
       "      <td>9</td>\n",
       "      <td>0</td>\n",
       "      <td>0</td>\n",
       "      <td>3</td>\n",
       "      <td>4</td>\n",
       "      <td>0.0</td>\n",
       "      <td>7.500000</td>\n",
       "    </tr>\n",
       "  </tbody>\n",
       "</table>\n",
       "</div>"
      ],
      "text/plain": [
       "     MatchID  InningsNo  Overs  Maidens  Runs  Wickets  Wides  NoBalls  \\\n",
       "258       22          2    2.0        0    20        0      0        0   \n",
       "446       39          1    4.0        0    33        1      0        0   \n",
       "80         7          2    4.0        0    31        2      3        0   \n",
       "534       46          2    3.0        0    36        1      0        0   \n",
       "294       25          2    3.0        0    45        0      0        0   \n",
       "\n",
       "     Economy  BowlingOrder  TotalLegalBallsBowled  DotBalls  Ones  Twos  \\\n",
       "258    10.00             5                     12         2     6     1   \n",
       "446     8.25             5                     24         6    13     2   \n",
       "80      7.75             6                     24         9     8     5   \n",
       "534    12.00             3                     18         4     8     1   \n",
       "294    15.00             5                     18         2     9     0   \n",
       "\n",
       "     Threes  Fours  Sixes  StrikeRate  EconomyDotBalls  \n",
       "258       0      3      0         0.0         5.000000  \n",
       "446       0      1      2        24.0         1.375000  \n",
       "80        0      1      1        12.0         0.861111  \n",
       "534       0      2      3        18.0         3.000000  \n",
       "294       0      3      4         0.0         7.500000  "
      ]
     },
     "execution_count": 19,
     "metadata": {},
     "output_type": "execute_result"
    }
   ],
   "source": [
    "ipl.head()"
   ]
  },
  {
   "cell_type": "code",
   "execution_count": 20,
   "id": "5bf32771",
   "metadata": {},
   "outputs": [
    {
     "data": {
      "text/plain": [
       "Runs                     1.000000\n",
       "Sixes                    0.656436\n",
       "Fours                    0.633400\n",
       "TotalLegalBallsBowled    0.579127\n",
       "Overs                    0.576475\n",
       "Economy                  0.448760\n",
       "Wides                    0.324683\n",
       "Ones                     0.319006\n",
       "Twos                     0.257628\n",
       "NoBalls                  0.222548\n",
       "StrikeRate               0.180699\n",
       "Threes                   0.053900\n",
       "DotBalls                 0.044748\n",
       "MatchID                  0.003813\n",
       "Wickets                 -0.035012\n",
       "EconomyDotBalls         -0.085052\n",
       "InningsNo               -0.110598\n",
       "Maidens                 -0.125722\n",
       "BowlingOrder            -0.241113\n",
       "Name: Runs, dtype: float64"
      ]
     },
     "execution_count": 20,
     "metadata": {},
     "output_type": "execute_result"
    }
   ],
   "source": [
    "corr_matrix = ipl.corr()\n",
    "corr_matrix['Runs'].sort_values(ascending=False)"
   ]
  },
  {
   "cell_type": "code",
   "execution_count": 21,
   "id": "38c5d214",
   "metadata": {},
   "outputs": [
    {
     "data": {
      "text/plain": [
       "<AxesSubplot:xlabel='EconomyDotBalls', ylabel='Runs'>"
      ]
     },
     "execution_count": 21,
     "metadata": {},
     "output_type": "execute_result"
    },
    {
     "data": {
      "image/png": "[encoded data removed]",
      "text/plain": [
       "<Figure size 432x288 with 1 Axes>"
      ]
     },
     "metadata": {
      "needs_background": "light"
     },
     "output_type": "display_data"
    }
   ],
   "source": [
    "ipl.plot(kind=\"scatter\", x=\"EconomyDotBalls\", y=\"Runs\", alpha=0.8)"
   ]
  },
  {
   "cell_type": "code",
   "execution_count": 22,
   "id": "0be029f0",
   "metadata": {},
   "outputs": [],
   "source": [
    "ipl = strat_train_set.drop(\"Runs\", axis=1)\n",
    "ipl_labels = strat_train_set[\"Runs\"].copy()"
   ]
  },
  {
   "cell_type": "markdown",
   "id": "fe1c1b26",
   "metadata": {},
   "source": [
    "# Missing Attributes"
   ]
  },
  {
   "cell_type": "code",
   "execution_count": 23,
   "id": "3e66f8a0",
   "metadata": {},
   "outputs": [],
   "source": [
    "# To take care of missing attributes, you have three options:\n",
    "#     1. Get rid of the missing data points\n",
    "#     2. Get rid of the whole attribute\n",
    "#     3. Set the value to some value(0, mean or median)"
   ]
  },
  {
   "cell_type": "code",
   "execution_count": 24,
   "id": "388bd54b",
   "metadata": {},
   "outputs": [
    {
     "data": {
      "text/plain": [
       "(685, 17)"
      ]
     },
     "execution_count": 24,
     "metadata": {},
     "output_type": "execute_result"
    }
   ],
   "source": [
    "a = ipl.dropna(subset=[\"Wides\"]) #Option 1\n",
    "a.shape\n",
    "# Note that the original ipl dataframe will remain unchanged"
   ]
  },
  {
   "cell_type": "code",
   "execution_count": 25,
   "id": "2ce89bcc",
   "metadata": {},
   "outputs": [
    {
     "data": {
      "text/plain": [
       "(685, 16)"
      ]
     },
     "execution_count": 25,
     "metadata": {},
     "output_type": "execute_result"
    }
   ],
   "source": [
    "ipl.drop(\"Wides\", axis=1).shape # Option 2\n",
    "# Note that there is no RM column and also note that the original ipl dataframe will remain unchanged"
   ]
  },
  {
   "cell_type": "code",
   "execution_count": 26,
   "id": "0e0051db",
   "metadata": {},
   "outputs": [],
   "source": [
    "median = ipl[\"Wides\"].median() # Compute median for Option 3"
   ]
  },
  {
   "cell_type": "code",
   "execution_count": 27,
   "id": "d4d15822",
   "metadata": {},
   "outputs": [
    {
     "data": {
      "text/plain": [
       "258    0\n",
       "446    0\n",
       "80     3\n",
       "534    0\n",
       "294    0\n",
       "      ..\n",
       "680    3\n",
       "726    0\n",
       "796    4\n",
       "815    2\n",
       "498    0\n",
       "Name: Wides, Length: 685, dtype: int64"
      ]
     },
     "execution_count": 27,
     "metadata": {},
     "output_type": "execute_result"
    }
   ],
   "source": [
    "ipl[\"Wides\"].fillna(median) # Option 3\n",
    "# Note that the original ipl dataframe will remain unchanged"
   ]
  },
  {
   "cell_type": "code",
   "execution_count": 28,
   "id": "aa8ea2b7",
   "metadata": {},
   "outputs": [
    {
     "data": {
      "text/plain": [
       "(685, 17)"
      ]
     },
     "execution_count": 28,
     "metadata": {},
     "output_type": "execute_result"
    }
   ],
   "source": [
    "ipl.shape"
   ]
  },
  {
   "cell_type": "code",
   "execution_count": 29,
   "id": "3e5a98da",
   "metadata": {},
   "outputs": [
    {
     "data": {
      "text/html": [
       "<div>\n",
       "<style scoped>\n",
       "    .dataframe tbody tr th:only-of-type {\n",
       "        vertical-align: middle;\n",
       "    }\n",
       "\n",
       "    .dataframe tbody tr th {\n",
       "        vertical-align: top;\n",
       "    }\n",
       "\n",
       "    .dataframe thead th {\n",
       "        text-align: right;\n",
       "    }\n",
       "</style>\n",
       "<table border=\"1\" class=\"dataframe\">\n",
       "  <thead>\n",
       "    <tr style=\"text-align: right;\">\n",
       "      <th></th>\n",
       "      <th>MatchID</th>\n",
       "      <th>InningsNo</th>\n",
       "      <th>Overs</th>\n",
       "      <th>Maidens</th>\n",
       "      <th>Wickets</th>\n",
       "      <th>Wides</th>\n",
       "      <th>NoBalls</th>\n",
       "      <th>Economy</th>\n",
       "      <th>BowlingOrder</th>\n",
       "      <th>TotalLegalBallsBowled</th>\n",
       "      <th>DotBalls</th>\n",
       "      <th>Ones</th>\n",
       "      <th>Twos</th>\n",
       "      <th>Threes</th>\n",
       "      <th>Fours</th>\n",
       "      <th>Sixes</th>\n",
       "      <th>StrikeRate</th>\n",
       "    </tr>\n",
       "  </thead>\n",
       "  <tbody>\n",
       "    <tr>\n",
       "      <th>count</th>\n",
       "      <td>685.000000</td>\n",
       "      <td>685.000000</td>\n",
       "      <td>685.000000</td>\n",
       "      <td>685.000000</td>\n",
       "      <td>685.000000</td>\n",
       "      <td>685.000000</td>\n",
       "      <td>685.000000</td>\n",
       "      <td>685.000000</td>\n",
       "      <td>685.000000</td>\n",
       "      <td>685.000000</td>\n",
       "      <td>685.000000</td>\n",
       "      <td>685.000000</td>\n",
       "      <td>685.000000</td>\n",
       "      <td>685.000000</td>\n",
       "      <td>685.000000</td>\n",
       "      <td>685.000000</td>\n",
       "      <td>685.000000</td>\n",
       "    </tr>\n",
       "    <tr>\n",
       "      <th>mean</th>\n",
       "      <td>37.414599</td>\n",
       "      <td>1.496350</td>\n",
       "      <td>3.323212</td>\n",
       "      <td>0.035036</td>\n",
       "      <td>0.970803</td>\n",
       "      <td>0.792701</td>\n",
       "      <td>0.084672</td>\n",
       "      <td>8.735635</td>\n",
       "      <td>3.433577</td>\n",
       "      <td>19.988321</td>\n",
       "      <td>7.763504</td>\n",
       "      <td>7.443796</td>\n",
       "      <td>1.176642</td>\n",
       "      <td>0.062774</td>\n",
       "      <td>2.410219</td>\n",
       "      <td>1.256934</td>\n",
       "      <td>9.627299</td>\n",
       "    </tr>\n",
       "    <tr>\n",
       "      <th>std</th>\n",
       "      <td>21.319426</td>\n",
       "      <td>0.500352</td>\n",
       "      <td>1.003081</td>\n",
       "      <td>0.191787</td>\n",
       "      <td>1.061980</td>\n",
       "      <td>1.064144</td>\n",
       "      <td>0.303703</td>\n",
       "      <td>3.467382</td>\n",
       "      <td>1.714331</td>\n",
       "      <td>5.989014</td>\n",
       "      <td>3.927651</td>\n",
       "      <td>3.654103</td>\n",
       "      <td>1.189394</td>\n",
       "      <td>0.271181</td>\n",
       "      <td>1.765379</td>\n",
       "      <td>1.148849</td>\n",
       "      <td>9.707407</td>\n",
       "    </tr>\n",
       "    <tr>\n",
       "      <th>min</th>\n",
       "      <td>1.000000</td>\n",
       "      <td>1.000000</td>\n",
       "      <td>0.100000</td>\n",
       "      <td>0.000000</td>\n",
       "      <td>0.000000</td>\n",
       "      <td>0.000000</td>\n",
       "      <td>0.000000</td>\n",
       "      <td>0.000000</td>\n",
       "      <td>1.000000</td>\n",
       "      <td>1.000000</td>\n",
       "      <td>0.000000</td>\n",
       "      <td>0.000000</td>\n",
       "      <td>0.000000</td>\n",
       "      <td>0.000000</td>\n",
       "      <td>0.000000</td>\n",
       "      <td>0.000000</td>\n",
       "      <td>0.000000</td>\n",
       "    </tr>\n",
       "    <tr>\n",
       "      <th>25%</th>\n",
       "      <td>19.000000</td>\n",
       "      <td>1.000000</td>\n",
       "      <td>3.000000</td>\n",
       "      <td>0.000000</td>\n",
       "      <td>0.000000</td>\n",
       "      <td>0.000000</td>\n",
       "      <td>0.000000</td>\n",
       "      <td>6.500000</td>\n",
       "      <td>2.000000</td>\n",
       "      <td>18.000000</td>\n",
       "      <td>5.000000</td>\n",
       "      <td>5.000000</td>\n",
       "      <td>0.000000</td>\n",
       "      <td>0.000000</td>\n",
       "      <td>1.000000</td>\n",
       "      <td>0.000000</td>\n",
       "      <td>0.000000</td>\n",
       "    </tr>\n",
       "    <tr>\n",
       "      <th>50%</th>\n",
       "      <td>38.000000</td>\n",
       "      <td>1.000000</td>\n",
       "      <td>4.000000</td>\n",
       "      <td>0.000000</td>\n",
       "      <td>1.000000</td>\n",
       "      <td>0.000000</td>\n",
       "      <td>0.000000</td>\n",
       "      <td>8.330000</td>\n",
       "      <td>3.000000</td>\n",
       "      <td>24.000000</td>\n",
       "      <td>8.000000</td>\n",
       "      <td>7.000000</td>\n",
       "      <td>1.000000</td>\n",
       "      <td>0.000000</td>\n",
       "      <td>2.000000</td>\n",
       "      <td>1.000000</td>\n",
       "      <td>8.000000</td>\n",
       "    </tr>\n",
       "    <tr>\n",
       "      <th>75%</th>\n",
       "      <td>55.000000</td>\n",
       "      <td>2.000000</td>\n",
       "      <td>4.000000</td>\n",
       "      <td>0.000000</td>\n",
       "      <td>2.000000</td>\n",
       "      <td>1.000000</td>\n",
       "      <td>0.000000</td>\n",
       "      <td>10.500000</td>\n",
       "      <td>5.000000</td>\n",
       "      <td>24.000000</td>\n",
       "      <td>10.000000</td>\n",
       "      <td>10.000000</td>\n",
       "      <td>2.000000</td>\n",
       "      <td>0.000000</td>\n",
       "      <td>4.000000</td>\n",
       "      <td>2.000000</td>\n",
       "      <td>18.000000</td>\n",
       "    </tr>\n",
       "    <tr>\n",
       "      <th>max</th>\n",
       "      <td>76.000000</td>\n",
       "      <td>2.000000</td>\n",
       "      <td>4.000000</td>\n",
       "      <td>2.000000</td>\n",
       "      <td>5.000000</td>\n",
       "      <td>6.000000</td>\n",
       "      <td>2.000000</td>\n",
       "      <td>36.000000</td>\n",
       "      <td>8.000000</td>\n",
       "      <td>24.000000</td>\n",
       "      <td>19.000000</td>\n",
       "      <td>18.000000</td>\n",
       "      <td>7.000000</td>\n",
       "      <td>3.000000</td>\n",
       "      <td>9.000000</td>\n",
       "      <td>6.000000</td>\n",
       "      <td>24.000000</td>\n",
       "    </tr>\n",
       "  </tbody>\n",
       "</table>\n",
       "</div>"
      ],
      "text/plain": [
       "          MatchID   InningsNo       Overs     Maidens     Wickets       Wides  \\\n",
       "count  685.000000  685.000000  685.000000  685.000000  685.000000  685.000000   \n",
       "mean    37.414599    1.496350    3.323212    0.035036    0.970803    0.792701   \n",
       "std     21.319426    0.500352    1.003081    0.191787    1.061980    1.064144   \n",
       "min      1.000000    1.000000    0.100000    0.000000    0.000000    0.000000   \n",
       "25%     19.000000    1.000000    3.000000    0.000000    0.000000    0.000000   \n",
       "50%     38.000000    1.000000    4.000000    0.000000    1.000000    0.000000   \n",
       "75%     55.000000    2.000000    4.000000    0.000000    2.000000    1.000000   \n",
       "max     76.000000    2.000000    4.000000    2.000000    5.000000    6.000000   \n",
       "\n",
       "          NoBalls     Economy  BowlingOrder  TotalLegalBallsBowled  \\\n",
       "count  685.000000  685.000000    685.000000             685.000000   \n",
       "mean     0.084672    8.735635      3.433577              19.988321   \n",
       "std      0.303703    3.467382      1.714331               5.989014   \n",
       "min      0.000000    0.000000      1.000000               1.000000   \n",
       "25%      0.000000    6.500000      2.000000              18.000000   \n",
       "50%      0.000000    8.330000      3.000000              24.000000   \n",
       "75%      0.000000   10.500000      5.000000              24.000000   \n",
       "max      2.000000   36.000000      8.000000              24.000000   \n",
       "\n",
       "         DotBalls        Ones        Twos      Threes       Fours       Sixes  \\\n",
       "count  685.000000  685.000000  685.000000  685.000000  685.000000  685.000000   \n",
       "mean     7.763504    7.443796    1.176642    0.062774    2.410219    1.256934   \n",
       "std      3.927651    3.654103    1.189394    0.271181    1.765379    1.148849   \n",
       "min      0.000000    0.000000    0.000000    0.000000    0.000000    0.000000   \n",
       "25%      5.000000    5.000000    0.000000    0.000000    1.000000    0.000000   \n",
       "50%      8.000000    7.000000    1.000000    0.000000    2.000000    1.000000   \n",
       "75%     10.000000   10.000000    2.000000    0.000000    4.000000    2.000000   \n",
       "max     19.000000   18.000000    7.000000    3.000000    9.000000    6.000000   \n",
       "\n",
       "       StrikeRate  \n",
       "count  685.000000  \n",
       "mean     9.627299  \n",
       "std      9.707407  \n",
       "min      0.000000  \n",
       "25%      0.000000  \n",
       "50%      8.000000  \n",
       "75%     18.000000  \n",
       "max     24.000000  "
      ]
     },
     "execution_count": 29,
     "metadata": {},
     "output_type": "execute_result"
    }
   ],
   "source": [
    "ipl.describe() # before we started filling missing attributes"
   ]
  },
  {
   "cell_type": "code",
   "execution_count": 30,
   "id": "d970ded6",
   "metadata": {},
   "outputs": [
    {
     "data": {
      "text/html": [
       "<style>#sk-container-id-1 {color: black;background-color: white;}#sk-container-id-1 pre{padding: 0;}#sk-container-id-1 div.sk-toggleable {background-color: white;}#sk-container-id-1 label.sk-toggleable__label {cursor: pointer;display: block;width: 100%;margin-bottom: 0;padding: 0.3em;box-sizing: border-box;text-align: center;}#sk-container-id-1 label.sk-toggleable__label-arrow:before {content: \"▸\";float: left;margin-right: 0.25em;color: #696969;}#sk-container-id-1 label.sk-toggleable__label-arrow:hover:before {color: black;}#sk-container-id-1 div.sk-estimator:hover label.sk-toggleable__label-arrow:before {color: black;}#sk-container-id-1 div.sk-toggleable__content {max-height: 0;max-width: 0;overflow: hidden;text-align: left;background-color: #f0f8ff;}#sk-container-id-1 div.sk-toggleable__content pre {margin: 0.2em;color: black;border-radius: 0.25em;background-color: #f0f8ff;}#sk-container-id-1 input.sk-toggleable__control:checked~div.sk-toggleable__content {max-height: 200px;max-width: 100%;overflow: auto;}#sk-container-id-1 input.sk-toggleable__control:checked~label.sk-toggleable__label-arrow:before {content: \"▾\";}#sk-container-id-1 div.sk-estimator input.sk-toggleable__control:checked~label.sk-toggleable__label {background-color: #d4ebff;}#sk-container-id-1 div.sk-label input.sk-toggleable__control:checked~label.sk-toggleable__label {background-color: #d4ebff;}#sk-container-id-1 input.sk-hidden--visually {border: 0;clip: rect(1px 1px 1px 1px);clip: rect(1px, 1px, 1px, 1px);height: 1px;margin: -1px;overflow: hidden;padding: 0;position: absolute;width: 1px;}#sk-container-id-1 div.sk-estimator {font-family: monospace;background-color: #f0f8ff;border: 1px dotted black;border-radius: 0.25em;box-sizing: border-box;margin-bottom: 0.5em;}#sk-container-id-1 div.sk-estimator:hover {background-color: #d4ebff;}#sk-container-id-1 div.sk-parallel-item::after {content: \"\";width: 100%;border-bottom: 1px solid gray;flex-grow: 1;}#sk-container-id-1 div.sk-label:hover label.sk-toggleable__label {background-color: #d4ebff;}#sk-container-id-1 div.sk-serial::before {content: \"\";position: absolute;border-left: 1px solid gray;box-sizing: border-box;top: 0;bottom: 0;left: 50%;z-index: 0;}#sk-container-id-1 div.sk-serial {display: flex;flex-direction: column;align-items: center;background-color: white;padding-right: 0.2em;padding-left: 0.2em;position: relative;}#sk-container-id-1 div.sk-item {position: relative;z-index: 1;}#sk-container-id-1 div.sk-parallel {display: flex;align-items: stretch;justify-content: center;background-color: white;position: relative;}#sk-container-id-1 div.sk-item::before, #sk-container-id-1 div.sk-parallel-item::before {content: \"\";position: absolute;border-left: 1px solid gray;box-sizing: border-box;top: 0;bottom: 0;left: 50%;z-index: -1;}#sk-container-id-1 div.sk-parallel-item {display: flex;flex-direction: column;z-index: 1;position: relative;background-color: white;}#sk-container-id-1 div.sk-parallel-item:first-child::after {align-self: flex-end;width: 50%;}#sk-container-id-1 div.sk-parallel-item:last-child::after {align-self: flex-start;width: 50%;}#sk-container-id-1 div.sk-parallel-item:only-child::after {width: 0;}#sk-container-id-1 div.sk-dashed-wrapped {border: 1px dashed gray;margin: 0 0.4em 0.5em 0.4em;box-sizing: border-box;padding-bottom: 0.4em;background-color: white;}#sk-container-id-1 div.sk-label label {font-family: monospace;font-weight: bold;display: inline-block;line-height: 1.2em;}#sk-container-id-1 div.sk-label-container {text-align: center;}#sk-container-id-1 div.sk-container {/* jupyter's `normalize.less` sets `[hidden] { display: none; }` but bootstrap.min.css set `[hidden] { display: none !important; }` so we also need the `!important` here to be able to override the default hidden behavior on the sphinx rendered scikit-learn.org. See: https://github.com/scikit-learn/scikit-learn/issues/21755 */display: inline-block !important;position: relative;}#sk-container-id-1 div.sk-text-repr-fallback {display: none;}</style><div id=\"sk-container-id-1\" class=\"sk-top-container\"><div class=\"sk-text-repr-fallback\"><pre>SimpleImputer(strategy=&#x27;median&#x27;)</pre><b>In a Jupyter environment, please rerun this cell to show the HTML representation or trust the notebook. <br />On GitHub, the HTML representation is unable to render, please try loading this page with nbviewer.org.</b></div><div class=\"sk-container\" hidden><div class=\"sk-item\"><div class=\"sk-estimator sk-toggleable\"><input class=\"sk-toggleable__control sk-hidden--visually\" id=\"sk-estimator-id-1\" type=\"checkbox\" checked><label for=\"sk-estimator-id-1\" class=\"sk-toggleable__label sk-toggleable__label-arrow\">SimpleImputer</label><div class=\"sk-toggleable__content\"><pre>SimpleImputer(strategy=&#x27;median&#x27;)</pre></div></div></div></div></div>"
      ],
      "text/plain": [
       "SimpleImputer(strategy='median')"
      ]
     },
     "execution_count": 30,
     "metadata": {},
     "output_type": "execute_result"
    }
   ],
   "source": [
    "from sklearn.impute import SimpleImputer\n",
    "imputer = SimpleImputer(strategy=\"median\")\n",
    "imputer.fit(ipl)"
   ]
  },
  {
   "cell_type": "code",
   "execution_count": 31,
   "id": "19910510",
   "metadata": {},
   "outputs": [
    {
     "data": {
      "text/plain": [
       "array([38.  ,  1.  ,  4.  ,  0.  ,  1.  ,  0.  ,  0.  ,  8.33,  3.  ,\n",
       "       24.  ,  8.  ,  7.  ,  1.  ,  0.  ,  2.  ,  1.  ,  8.  ])"
      ]
     },
     "execution_count": 31,
     "metadata": {},
     "output_type": "execute_result"
    }
   ],
   "source": [
    "imputer.statistics_"
   ]
  },
  {
   "cell_type": "code",
   "execution_count": 32,
   "id": "20a28cf7",
   "metadata": {},
   "outputs": [
    {
     "name": "stdout",
     "output_type": "stream",
     "text": [
      "[[22.  2.  2. ...  3.  0.  0.]\n",
      " [39.  1.  4. ...  1.  2. 24.]\n",
      " [ 7.  2.  4. ...  1.  1. 12.]\n",
      " ...\n",
      " [69.  1.  2. ...  2.  2.  6.]\n",
      " [73.  1.  4. ...  5.  2. 24.]\n",
      " [43.  2.  3. ...  2.  1.  9.]]\n"
     ]
    }
   ],
   "source": [
    "X = imputer.transform(ipl)\n",
    "print(X)"
   ]
  },
  {
   "cell_type": "code",
   "execution_count": 33,
   "id": "c003cd52",
   "metadata": {},
   "outputs": [],
   "source": [
    "ipl_tr = pd.DataFrame(X, columns=ipl.columns)      #comverting the numpy array type x to the dataFrame"
   ]
  },
  {
   "cell_type": "code",
   "execution_count": 34,
   "id": "f06170f2",
   "metadata": {},
   "outputs": [
    {
     "data": {
      "text/html": [
       "<div>\n",
       "<style scoped>\n",
       "    .dataframe tbody tr th:only-of-type {\n",
       "        vertical-align: middle;\n",
       "    }\n",
       "\n",
       "    .dataframe tbody tr th {\n",
       "        vertical-align: top;\n",
       "    }\n",
       "\n",
       "    .dataframe thead th {\n",
       "        text-align: right;\n",
       "    }\n",
       "</style>\n",
       "<table border=\"1\" class=\"dataframe\">\n",
       "  <thead>\n",
       "    <tr style=\"text-align: right;\">\n",
       "      <th></th>\n",
       "      <th>MatchID</th>\n",
       "      <th>InningsNo</th>\n",
       "      <th>Overs</th>\n",
       "      <th>Maidens</th>\n",
       "      <th>Wickets</th>\n",
       "      <th>Wides</th>\n",
       "      <th>NoBalls</th>\n",
       "      <th>Economy</th>\n",
       "      <th>BowlingOrder</th>\n",
       "      <th>TotalLegalBallsBowled</th>\n",
       "      <th>DotBalls</th>\n",
       "      <th>Ones</th>\n",
       "      <th>Twos</th>\n",
       "      <th>Threes</th>\n",
       "      <th>Fours</th>\n",
       "      <th>Sixes</th>\n",
       "      <th>StrikeRate</th>\n",
       "    </tr>\n",
       "  </thead>\n",
       "  <tbody>\n",
       "    <tr>\n",
       "      <th>count</th>\n",
       "      <td>685.000000</td>\n",
       "      <td>685.000000</td>\n",
       "      <td>685.000000</td>\n",
       "      <td>685.000000</td>\n",
       "      <td>685.000000</td>\n",
       "      <td>685.000000</td>\n",
       "      <td>685.000000</td>\n",
       "      <td>685.000000</td>\n",
       "      <td>685.000000</td>\n",
       "      <td>685.000000</td>\n",
       "      <td>685.000000</td>\n",
       "      <td>685.000000</td>\n",
       "      <td>685.000000</td>\n",
       "      <td>685.000000</td>\n",
       "      <td>685.000000</td>\n",
       "      <td>685.000000</td>\n",
       "      <td>685.000000</td>\n",
       "    </tr>\n",
       "    <tr>\n",
       "      <th>mean</th>\n",
       "      <td>37.414599</td>\n",
       "      <td>1.496350</td>\n",
       "      <td>3.323212</td>\n",
       "      <td>0.035036</td>\n",
       "      <td>0.970803</td>\n",
       "      <td>0.792701</td>\n",
       "      <td>0.084672</td>\n",
       "      <td>8.735635</td>\n",
       "      <td>3.433577</td>\n",
       "      <td>19.988321</td>\n",
       "      <td>7.763504</td>\n",
       "      <td>7.443796</td>\n",
       "      <td>1.176642</td>\n",
       "      <td>0.062774</td>\n",
       "      <td>2.410219</td>\n",
       "      <td>1.256934</td>\n",
       "      <td>9.627299</td>\n",
       "    </tr>\n",
       "    <tr>\n",
       "      <th>std</th>\n",
       "      <td>21.319426</td>\n",
       "      <td>0.500352</td>\n",
       "      <td>1.003081</td>\n",
       "      <td>0.191787</td>\n",
       "      <td>1.061980</td>\n",
       "      <td>1.064144</td>\n",
       "      <td>0.303703</td>\n",
       "      <td>3.467382</td>\n",
       "      <td>1.714331</td>\n",
       "      <td>5.989014</td>\n",
       "      <td>3.927651</td>\n",
       "      <td>3.654103</td>\n",
       "      <td>1.189394</td>\n",
       "      <td>0.271181</td>\n",
       "      <td>1.765379</td>\n",
       "      <td>1.148849</td>\n",
       "      <td>9.707407</td>\n",
       "    </tr>\n",
       "    <tr>\n",
       "      <th>min</th>\n",
       "      <td>1.000000</td>\n",
       "      <td>1.000000</td>\n",
       "      <td>0.100000</td>\n",
       "      <td>0.000000</td>\n",
       "      <td>0.000000</td>\n",
       "      <td>0.000000</td>\n",
       "      <td>0.000000</td>\n",
       "      <td>0.000000</td>\n",
       "      <td>1.000000</td>\n",
       "      <td>1.000000</td>\n",
       "      <td>0.000000</td>\n",
       "      <td>0.000000</td>\n",
       "      <td>0.000000</td>\n",
       "      <td>0.000000</td>\n",
       "      <td>0.000000</td>\n",
       "      <td>0.000000</td>\n",
       "      <td>0.000000</td>\n",
       "    </tr>\n",
       "    <tr>\n",
       "      <th>25%</th>\n",
       "      <td>19.000000</td>\n",
       "      <td>1.000000</td>\n",
       "      <td>3.000000</td>\n",
       "      <td>0.000000</td>\n",
       "      <td>0.000000</td>\n",
       "      <td>0.000000</td>\n",
       "      <td>0.000000</td>\n",
       "      <td>6.500000</td>\n",
       "      <td>2.000000</td>\n",
       "      <td>18.000000</td>\n",
       "      <td>5.000000</td>\n",
       "      <td>5.000000</td>\n",
       "      <td>0.000000</td>\n",
       "      <td>0.000000</td>\n",
       "      <td>1.000000</td>\n",
       "      <td>0.000000</td>\n",
       "      <td>0.000000</td>\n",
       "    </tr>\n",
       "    <tr>\n",
       "      <th>50%</th>\n",
       "      <td>38.000000</td>\n",
       "      <td>1.000000</td>\n",
       "      <td>4.000000</td>\n",
       "      <td>0.000000</td>\n",
       "      <td>1.000000</td>\n",
       "      <td>0.000000</td>\n",
       "      <td>0.000000</td>\n",
       "      <td>8.330000</td>\n",
       "      <td>3.000000</td>\n",
       "      <td>24.000000</td>\n",
       "      <td>8.000000</td>\n",
       "      <td>7.000000</td>\n",
       "      <td>1.000000</td>\n",
       "      <td>0.000000</td>\n",
       "      <td>2.000000</td>\n",
       "      <td>1.000000</td>\n",
       "      <td>8.000000</td>\n",
       "    </tr>\n",
       "    <tr>\n",
       "      <th>75%</th>\n",
       "      <td>55.000000</td>\n",
       "      <td>2.000000</td>\n",
       "      <td>4.000000</td>\n",
       "      <td>0.000000</td>\n",
       "      <td>2.000000</td>\n",
       "      <td>1.000000</td>\n",
       "      <td>0.000000</td>\n",
       "      <td>10.500000</td>\n",
       "      <td>5.000000</td>\n",
       "      <td>24.000000</td>\n",
       "      <td>10.000000</td>\n",
       "      <td>10.000000</td>\n",
       "      <td>2.000000</td>\n",
       "      <td>0.000000</td>\n",
       "      <td>4.000000</td>\n",
       "      <td>2.000000</td>\n",
       "      <td>18.000000</td>\n",
       "    </tr>\n",
       "    <tr>\n",
       "      <th>max</th>\n",
       "      <td>76.000000</td>\n",
       "      <td>2.000000</td>\n",
       "      <td>4.000000</td>\n",
       "      <td>2.000000</td>\n",
       "      <td>5.000000</td>\n",
       "      <td>6.000000</td>\n",
       "      <td>2.000000</td>\n",
       "      <td>36.000000</td>\n",
       "      <td>8.000000</td>\n",
       "      <td>24.000000</td>\n",
       "      <td>19.000000</td>\n",
       "      <td>18.000000</td>\n",
       "      <td>7.000000</td>\n",
       "      <td>3.000000</td>\n",
       "      <td>9.000000</td>\n",
       "      <td>6.000000</td>\n",
       "      <td>24.000000</td>\n",
       "    </tr>\n",
       "  </tbody>\n",
       "</table>\n",
       "</div>"
      ],
      "text/plain": [
       "          MatchID   InningsNo       Overs     Maidens     Wickets       Wides  \\\n",
       "count  685.000000  685.000000  685.000000  685.000000  685.000000  685.000000   \n",
       "mean    37.414599    1.496350    3.323212    0.035036    0.970803    0.792701   \n",
       "std     21.319426    0.500352    1.003081    0.191787    1.061980    1.064144   \n",
       "min      1.000000    1.000000    0.100000    0.000000    0.000000    0.000000   \n",
       "25%     19.000000    1.000000    3.000000    0.000000    0.000000    0.000000   \n",
       "50%     38.000000    1.000000    4.000000    0.000000    1.000000    0.000000   \n",
       "75%     55.000000    2.000000    4.000000    0.000000    2.000000    1.000000   \n",
       "max     76.000000    2.000000    4.000000    2.000000    5.000000    6.000000   \n",
       "\n",
       "          NoBalls     Economy  BowlingOrder  TotalLegalBallsBowled  \\\n",
       "count  685.000000  685.000000    685.000000             685.000000   \n",
       "mean     0.084672    8.735635      3.433577              19.988321   \n",
       "std      0.303703    3.467382      1.714331               5.989014   \n",
       "min      0.000000    0.000000      1.000000               1.000000   \n",
       "25%      0.000000    6.500000      2.000000              18.000000   \n",
       "50%      0.000000    8.330000      3.000000              24.000000   \n",
       "75%      0.000000   10.500000      5.000000              24.000000   \n",
       "max      2.000000   36.000000      8.000000              24.000000   \n",
       "\n",
       "         DotBalls        Ones        Twos      Threes       Fours       Sixes  \\\n",
       "count  685.000000  685.000000  685.000000  685.000000  685.000000  685.000000   \n",
       "mean     7.763504    7.443796    1.176642    0.062774    2.410219    1.256934   \n",
       "std      3.927651    3.654103    1.189394    0.271181    1.765379    1.148849   \n",
       "min      0.000000    0.000000    0.000000    0.000000    0.000000    0.000000   \n",
       "25%      5.000000    5.000000    0.000000    0.000000    1.000000    0.000000   \n",
       "50%      8.000000    7.000000    1.000000    0.000000    2.000000    1.000000   \n",
       "75%     10.000000   10.000000    2.000000    0.000000    4.000000    2.000000   \n",
       "max     19.000000   18.000000    7.000000    3.000000    9.000000    6.000000   \n",
       "\n",
       "       StrikeRate  \n",
       "count  685.000000  \n",
       "mean     9.627299  \n",
       "std      9.707407  \n",
       "min      0.000000  \n",
       "25%      0.000000  \n",
       "50%      8.000000  \n",
       "75%     18.000000  \n",
       "max     24.000000  "
      ]
     },
     "execution_count": 34,
     "metadata": {},
     "output_type": "execute_result"
    }
   ],
   "source": [
    "ipl_tr.describe()"
   ]
  },
  {
   "cell_type": "markdown",
   "id": "b566d8d0",
   "metadata": {},
   "source": [
    "# Creating a Pipeline"
   ]
  },
  {
   "cell_type": "code",
   "execution_count": 35,
   "id": "0017984d",
   "metadata": {},
   "outputs": [],
   "source": [
    "from sklearn.pipeline import Pipeline\n",
    "from sklearn.preprocessing import StandardScaler\n",
    "my_pipeline = Pipeline([\n",
    "    ('imputer', SimpleImputer(strategy=\"median\")),\n",
    "    #     ..... add as many as you want in your pipeline\n",
    "    ('std_scaler', StandardScaler()),\n",
    "])"
   ]
  },
  {
   "cell_type": "code",
   "execution_count": 36,
   "id": "dc2ad5dc",
   "metadata": {},
   "outputs": [],
   "source": [
    "ipl_num_tr = my_pipeline.fit_transform(ipl)"
   ]
  },
  {
   "cell_type": "code",
   "execution_count": 37,
   "id": "8ee3e43b",
   "metadata": {},
   "outputs": [
    {
     "name": "stdout",
     "output_type": "stream",
     "text": [
      "[[-0.723559    1.00732611 -1.32011167 ...  0.33432599 -1.09488122\n",
      "  -0.99247248]\n",
      " [ 0.07441851 -0.99272718  0.67520275 ... -0.79940323  0.64726428\n",
      "   1.48167305]\n",
      " [-1.42765681  1.00732611  0.67520275 ... -0.79940323 -0.22380847\n",
      "   0.24460029]\n",
      " ...\n",
      " [ 1.48261412 -0.99272718 -1.32011167 ... -0.23253862  0.64726428\n",
      "  -0.37393609]\n",
      " [ 1.67037354 -0.99272718  0.67520275 ...  1.46805521  0.64726428\n",
      "   1.48167305]\n",
      " [ 0.26217793  1.00732611 -0.32245446 ... -0.23253862 -0.22380847\n",
      "  -0.0646679 ]]\n"
     ]
    }
   ],
   "source": [
    "ipl_num_tr.shape\n",
    "print(ipl_num_tr)"
   ]
  },
  {
   "cell_type": "markdown",
   "id": "032777d1",
   "metadata": {},
   "source": [
    "# Selecting a desired model for IPL Bowling Stats"
   ]
  },
  {
   "cell_type": "code",
   "execution_count": 38,
   "id": "cbdf4a31",
   "metadata": {},
   "outputs": [
    {
     "data": {
      "text/html": [
       "<style>#sk-container-id-2 {color: black;background-color: white;}#sk-container-id-2 pre{padding: 0;}#sk-container-id-2 div.sk-toggleable {background-color: white;}#sk-container-id-2 label.sk-toggleable__label {cursor: pointer;display: block;width: 100%;margin-bottom: 0;padding: 0.3em;box-sizing: border-box;text-align: center;}#sk-container-id-2 label.sk-toggleable__label-arrow:before {content: \"▸\";float: left;margin-right: 0.25em;color: #696969;}#sk-container-id-2 label.sk-toggleable__label-arrow:hover:before {color: black;}#sk-container-id-2 div.sk-estimator:hover label.sk-toggleable__label-arrow:before {color: black;}#sk-container-id-2 div.sk-toggleable__content {max-height: 0;max-width: 0;overflow: hidden;text-align: left;background-color: #f0f8ff;}#sk-container-id-2 div.sk-toggleable__content pre {margin: 0.2em;color: black;border-radius: 0.25em;background-color: #f0f8ff;}#sk-container-id-2 input.sk-toggleable__control:checked~div.sk-toggleable__content {max-height: 200px;max-width: 100%;overflow: auto;}#sk-container-id-2 input.sk-toggleable__control:checked~label.sk-toggleable__label-arrow:before {content: \"▾\";}#sk-container-id-2 div.sk-estimator input.sk-toggleable__control:checked~label.sk-toggleable__label {background-color: #d4ebff;}#sk-container-id-2 div.sk-label input.sk-toggleable__control:checked~label.sk-toggleable__label {background-color: #d4ebff;}#sk-container-id-2 input.sk-hidden--visually {border: 0;clip: rect(1px 1px 1px 1px);clip: rect(1px, 1px, 1px, 1px);height: 1px;margin: -1px;overflow: hidden;padding: 0;position: absolute;width: 1px;}#sk-container-id-2 div.sk-estimator {font-family: monospace;background-color: #f0f8ff;border: 1px dotted black;border-radius: 0.25em;box-sizing: border-box;margin-bottom: 0.5em;}#sk-container-id-2 div.sk-estimator:hover {background-color: #d4ebff;}#sk-container-id-2 div.sk-parallel-item::after {content: \"\";width: 100%;border-bottom: 1px solid gray;flex-grow: 1;}#sk-container-id-2 div.sk-label:hover label.sk-toggleable__label {background-color: #d4ebff;}#sk-container-id-2 div.sk-serial::before {content: \"\";position: absolute;border-left: 1px solid gray;box-sizing: border-box;top: 0;bottom: 0;left: 50%;z-index: 0;}#sk-container-id-2 div.sk-serial {display: flex;flex-direction: column;align-items: center;background-color: white;padding-right: 0.2em;padding-left: 0.2em;position: relative;}#sk-container-id-2 div.sk-item {position: relative;z-index: 1;}#sk-container-id-2 div.sk-parallel {display: flex;align-items: stretch;justify-content: center;background-color: white;position: relative;}#sk-container-id-2 div.sk-item::before, #sk-container-id-2 div.sk-parallel-item::before {content: \"\";position: absolute;border-left: 1px solid gray;box-sizing: border-box;top: 0;bottom: 0;left: 50%;z-index: -1;}#sk-container-id-2 div.sk-parallel-item {display: flex;flex-direction: column;z-index: 1;position: relative;background-color: white;}#sk-container-id-2 div.sk-parallel-item:first-child::after {align-self: flex-end;width: 50%;}#sk-container-id-2 div.sk-parallel-item:last-child::after {align-self: flex-start;width: 50%;}#sk-container-id-2 div.sk-parallel-item:only-child::after {width: 0;}#sk-container-id-2 div.sk-dashed-wrapped {border: 1px dashed gray;margin: 0 0.4em 0.5em 0.4em;box-sizing: border-box;padding-bottom: 0.4em;background-color: white;}#sk-container-id-2 div.sk-label label {font-family: monospace;font-weight: bold;display: inline-block;line-height: 1.2em;}#sk-container-id-2 div.sk-label-container {text-align: center;}#sk-container-id-2 div.sk-container {/* jupyter's `normalize.less` sets `[hidden] { display: none; }` but bootstrap.min.css set `[hidden] { display: none !important; }` so we also need the `!important` here to be able to override the default hidden behavior on the sphinx rendered scikit-learn.org. See: https://github.com/scikit-learn/scikit-learn/issues/21755 */display: inline-block !important;position: relative;}#sk-container-id-2 div.sk-text-repr-fallback {display: none;}</style><div id=\"sk-container-id-2\" class=\"sk-top-container\"><div class=\"sk-text-repr-fallback\"><pre>LinearRegression()</pre><b>In a Jupyter environment, please rerun this cell to show the HTML representation or trust the notebook. <br />On GitHub, the HTML representation is unable to render, please try loading this page with nbviewer.org.</b></div><div class=\"sk-container\" hidden><div class=\"sk-item\"><div class=\"sk-estimator sk-toggleable\"><input class=\"sk-toggleable__control sk-hidden--visually\" id=\"sk-estimator-id-2\" type=\"checkbox\" checked><label for=\"sk-estimator-id-2\" class=\"sk-toggleable__label sk-toggleable__label-arrow\">LinearRegression</label><div class=\"sk-toggleable__content\"><pre>LinearRegression()</pre></div></div></div></div></div>"
      ],
      "text/plain": [
       "LinearRegression()"
      ]
     },
     "execution_count": 38,
     "metadata": {},
     "output_type": "execute_result"
    }
   ],
   "source": [
    "from sklearn.linear_model import LinearRegression\n",
    "from sklearn.tree import DecisionTreeRegressor\n",
    "from sklearn.ensemble import RandomForestRegressor\n",
    "model = LinearRegression()\n",
    "#model = DecisionTreeRegressor()\n",
    "#model = RandomForestRegressor()\n",
    "model.fit(ipl_num_tr, ipl_labels)\n",
    "# print(model.coef_)\n",
    "# print(model.intercept_)"
   ]
  },
  {
   "cell_type": "code",
   "execution_count": 39,
   "id": "67404bbb",
   "metadata": {},
   "outputs": [
    {
     "data": {
      "text/html": [
       "<div>\n",
       "<style scoped>\n",
       "    .dataframe tbody tr th:only-of-type {\n",
       "        vertical-align: middle;\n",
       "    }\n",
       "\n",
       "    .dataframe tbody tr th {\n",
       "        vertical-align: top;\n",
       "    }\n",
       "\n",
       "    .dataframe thead th {\n",
       "        text-align: right;\n",
       "    }\n",
       "</style>\n",
       "<table border=\"1\" class=\"dataframe\">\n",
       "  <thead>\n",
       "    <tr style=\"text-align: right;\">\n",
       "      <th></th>\n",
       "      <th>MatchID</th>\n",
       "      <th>InningsNo</th>\n",
       "      <th>Overs</th>\n",
       "      <th>Maidens</th>\n",
       "      <th>Wickets</th>\n",
       "      <th>Wides</th>\n",
       "      <th>NoBalls</th>\n",
       "      <th>Economy</th>\n",
       "      <th>BowlingOrder</th>\n",
       "      <th>TotalLegalBallsBowled</th>\n",
       "      <th>DotBalls</th>\n",
       "      <th>Ones</th>\n",
       "      <th>Twos</th>\n",
       "      <th>Threes</th>\n",
       "      <th>Fours</th>\n",
       "      <th>Sixes</th>\n",
       "      <th>StrikeRate</th>\n",
       "    </tr>\n",
       "  </thead>\n",
       "  <tbody>\n",
       "    <tr>\n",
       "      <th>258</th>\n",
       "      <td>22</td>\n",
       "      <td>2</td>\n",
       "      <td>2.0</td>\n",
       "      <td>0</td>\n",
       "      <td>0</td>\n",
       "      <td>0</td>\n",
       "      <td>0</td>\n",
       "      <td>10.00</td>\n",
       "      <td>5</td>\n",
       "      <td>12</td>\n",
       "      <td>2</td>\n",
       "      <td>6</td>\n",
       "      <td>1</td>\n",
       "      <td>0</td>\n",
       "      <td>3</td>\n",
       "      <td>0</td>\n",
       "      <td>0.0</td>\n",
       "    </tr>\n",
       "    <tr>\n",
       "      <th>446</th>\n",
       "      <td>39</td>\n",
       "      <td>1</td>\n",
       "      <td>4.0</td>\n",
       "      <td>0</td>\n",
       "      <td>1</td>\n",
       "      <td>0</td>\n",
       "      <td>0</td>\n",
       "      <td>8.25</td>\n",
       "      <td>5</td>\n",
       "      <td>24</td>\n",
       "      <td>6</td>\n",
       "      <td>13</td>\n",
       "      <td>2</td>\n",
       "      <td>0</td>\n",
       "      <td>1</td>\n",
       "      <td>2</td>\n",
       "      <td>24.0</td>\n",
       "    </tr>\n",
       "    <tr>\n",
       "      <th>80</th>\n",
       "      <td>7</td>\n",
       "      <td>2</td>\n",
       "      <td>4.0</td>\n",
       "      <td>0</td>\n",
       "      <td>2</td>\n",
       "      <td>3</td>\n",
       "      <td>0</td>\n",
       "      <td>7.75</td>\n",
       "      <td>6</td>\n",
       "      <td>24</td>\n",
       "      <td>9</td>\n",
       "      <td>8</td>\n",
       "      <td>5</td>\n",
       "      <td>0</td>\n",
       "      <td>1</td>\n",
       "      <td>1</td>\n",
       "      <td>12.0</td>\n",
       "    </tr>\n",
       "    <tr>\n",
       "      <th>534</th>\n",
       "      <td>46</td>\n",
       "      <td>2</td>\n",
       "      <td>3.0</td>\n",
       "      <td>0</td>\n",
       "      <td>1</td>\n",
       "      <td>0</td>\n",
       "      <td>0</td>\n",
       "      <td>12.00</td>\n",
       "      <td>3</td>\n",
       "      <td>18</td>\n",
       "      <td>4</td>\n",
       "      <td>8</td>\n",
       "      <td>1</td>\n",
       "      <td>0</td>\n",
       "      <td>2</td>\n",
       "      <td>3</td>\n",
       "      <td>18.0</td>\n",
       "    </tr>\n",
       "    <tr>\n",
       "      <th>294</th>\n",
       "      <td>25</td>\n",
       "      <td>2</td>\n",
       "      <td>3.0</td>\n",
       "      <td>0</td>\n",
       "      <td>0</td>\n",
       "      <td>0</td>\n",
       "      <td>0</td>\n",
       "      <td>15.00</td>\n",
       "      <td>5</td>\n",
       "      <td>18</td>\n",
       "      <td>2</td>\n",
       "      <td>9</td>\n",
       "      <td>0</td>\n",
       "      <td>0</td>\n",
       "      <td>3</td>\n",
       "      <td>4</td>\n",
       "      <td>0.0</td>\n",
       "    </tr>\n",
       "  </tbody>\n",
       "</table>\n",
       "</div>"
      ],
      "text/plain": [
       "     MatchID  InningsNo  Overs  Maidens  Wickets  Wides  NoBalls  Economy  \\\n",
       "258       22          2    2.0        0        0      0        0    10.00   \n",
       "446       39          1    4.0        0        1      0        0     8.25   \n",
       "80         7          2    4.0        0        2      3        0     7.75   \n",
       "534       46          2    3.0        0        1      0        0    12.00   \n",
       "294       25          2    3.0        0        0      0        0    15.00   \n",
       "\n",
       "     BowlingOrder  TotalLegalBallsBowled  DotBalls  Ones  Twos  Threes  Fours  \\\n",
       "258             5                     12         2     6     1       0      3   \n",
       "446             5                     24         6    13     2       0      1   \n",
       "80              6                     24         9     8     5       0      1   \n",
       "534             3                     18         4     8     1       0      2   \n",
       "294             5                     18         2     9     0       0      3   \n",
       "\n",
       "     Sixes  StrikeRate  \n",
       "258      0         0.0  \n",
       "446      2        24.0  \n",
       "80       1        12.0  \n",
       "534      3        18.0  \n",
       "294      4         0.0  "
      ]
     },
     "execution_count": 39,
     "metadata": {},
     "output_type": "execute_result"
    }
   ],
   "source": [
    "some_data = ipl.iloc[:5]\n",
    "some_data"
   ]
  },
  {
   "cell_type": "code",
   "execution_count": 40,
   "id": "9755f8cf",
   "metadata": {},
   "outputs": [
    {
     "data": {
      "text/plain": [
       "258    20\n",
       "446    33\n",
       "80     31\n",
       "534    36\n",
       "294    45\n",
       "Name: Runs, dtype: int64"
      ]
     },
     "execution_count": 40,
     "metadata": {},
     "output_type": "execute_result"
    }
   ],
   "source": [
    "some_labels = ipl_labels.iloc[:5]\n",
    "some_labels"
   ]
  },
  {
   "cell_type": "code",
   "execution_count": 41,
   "id": "673c9123",
   "metadata": {},
   "outputs": [
    {
     "data": {
      "text/plain": [
       "array([[-0.723559  ,  1.00732611, -1.32011167, -0.18281768, -0.91481236,\n",
       "        -0.74546289, -0.27900097,  0.36491183,  0.91439071, -1.33480385,\n",
       "        -1.46848967, -0.39540507, -0.14862308, -0.23165199,  0.33432599,\n",
       "        -1.09488122, -0.99247248],\n",
       "       [ 0.07441851, -0.99272718,  0.67520275, -0.18281768,  0.02751315,\n",
       "        -0.74546289, -0.27900097, -0.14016046,  0.91439071,  0.67032912,\n",
       "        -0.44932511,  1.52164983,  0.69275551, -0.23165199, -0.79940323,\n",
       "         0.64726428,  1.48167305],\n",
       "       [-1.42765681,  1.00732611,  0.67520275, -0.18281768,  0.96983866,\n",
       "         2.07576407, -0.27900097, -0.28446683,  1.49813501,  0.67032912,\n",
       "         0.31504832,  0.1523249 ,  3.2168913 , -0.23165199, -0.79940323,\n",
       "        -0.22380847,  0.24460029],\n",
       "       [ 0.40299749,  1.00732611, -0.32245446, -0.18281768,  0.02751315,\n",
       "        -0.74546289, -0.27900097,  0.94213731, -0.25309789, -0.33223736,\n",
       "        -0.95890739,  0.1523249 , -0.14862308, -0.23165199, -0.23253862,\n",
       "         1.51833702,  0.86313667],\n",
       "       [-0.58273944,  1.00732611, -0.32245446, -0.18281768, -0.91481236,\n",
       "        -0.74546289, -0.27900097,  1.80797552,  0.91439071, -0.33223736,\n",
       "        -1.46848967,  0.42618989, -0.99000167, -0.23165199,  0.33432599,\n",
       "         2.38940977, -0.99247248]])"
      ]
     },
     "execution_count": 41,
     "metadata": {},
     "output_type": "execute_result"
    }
   ],
   "source": [
    "prepared_data = my_pipeline.transform(some_data)\n",
    "prepared_data"
   ]
  },
  {
   "cell_type": "code",
   "execution_count": 42,
   "id": "25a5d2d6",
   "metadata": {},
   "outputs": [
    {
     "data": {
      "text/plain": [
       "array([19.88694399, 32.96647707, 31.01335401, 35.99425654, 44.99958461])"
      ]
     },
     "execution_count": 42,
     "metadata": {},
     "output_type": "execute_result"
    }
   ],
   "source": [
    "model.predict(prepared_data)"
   ]
  },
  {
   "cell_type": "code",
   "execution_count": 43,
   "id": "dfd19290",
   "metadata": {},
   "outputs": [
    {
     "data": {
      "text/plain": [
       "[20, 33, 31, 36, 45]"
      ]
     },
     "execution_count": 43,
     "metadata": {},
     "output_type": "execute_result"
    }
   ],
   "source": [
    "list(some_labels)"
   ]
  },
  {
   "cell_type": "markdown",
   "id": "3ed536e4",
   "metadata": {},
   "source": [
    "# Evaluating the model"
   ]
  },
  {
   "cell_type": "code",
   "execution_count": 44,
   "id": "f75bf0b0",
   "metadata": {},
   "outputs": [],
   "source": [
    "from sklearn.metrics import mean_squared_error\n",
    "ipl_predictions = model.predict(ipl_num_tr)\n",
    "mse = mean_squared_error(ipl_labels, ipl_predictions)\n",
    "rmse = np.sqrt(mse)"
   ]
  },
  {
   "cell_type": "code",
   "execution_count": 45,
   "id": "b1fff961",
   "metadata": {},
   "outputs": [
    {
     "data": {
      "text/plain": [
       "0.7028684650011685"
      ]
     },
     "execution_count": 45,
     "metadata": {},
     "output_type": "execute_result"
    }
   ],
   "source": [
    "rmse"
   ]
  },
  {
   "cell_type": "markdown",
   "id": "9fe732f4",
   "metadata": {},
   "source": [
    "# Using better evaluation technique - Cross Validation"
   ]
  },
  {
   "cell_type": "code",
   "execution_count": 46,
   "id": "6e745b7b",
   "metadata": {},
   "outputs": [],
   "source": [
    "# 1 2 3 4 5 6 7 8 9 10\n",
    "from sklearn.model_selection import cross_val_score\n",
    "scores = cross_val_score(model, ipl_num_tr, ipl_labels, scoring=\"neg_mean_squared_error\", cv=10)\n",
    "rmse_scores = np.sqrt(-scores)"
   ]
  },
  {
   "cell_type": "code",
   "execution_count": 47,
   "id": "c19af88c",
   "metadata": {},
   "outputs": [
    {
     "data": {
      "text/plain": [
       "array([0.88319167, 0.73288379, 0.63425789, 0.58254267, 0.73542983,\n",
       "       0.54763833, 0.86451314, 0.87716338, 0.77470181, 0.61746042])"
      ]
     },
     "execution_count": 47,
     "metadata": {},
     "output_type": "execute_result"
    }
   ],
   "source": [
    "rmse_scores"
   ]
  },
  {
   "cell_type": "code",
   "execution_count": 48,
   "id": "8c165b7b",
   "metadata": {},
   "outputs": [],
   "source": [
    "def print_scores(scores):\n",
    "    print(\"Scores:\", scores)\n",
    "    print(\"Mean: \", scores.mean())\n",
    "    print(\"Standard deviation: \", scores.std())"
   ]
  },
  {
   "cell_type": "code",
   "execution_count": 49,
   "id": "b0585117",
   "metadata": {},
   "outputs": [
    {
     "name": "stdout",
     "output_type": "stream",
     "text": [
      "Scores: [0.88319167 0.73288379 0.63425789 0.58254267 0.73542983 0.54763833\n",
      " 0.86451314 0.87716338 0.77470181 0.61746042]\n",
      "Mean:  0.7249782919706151\n",
      "Standard deviation:  0.11909389588813281\n"
     ]
    }
   ],
   "source": [
    "print_scores(rmse_scores)"
   ]
  },
  {
   "cell_type": "markdown",
   "id": "f24bf7d4",
   "metadata": {},
   "source": [
    "# Saving the model"
   ]
  },
  {
   "cell_type": "code",
   "execution_count": 50,
   "id": "ab8e56fc",
   "metadata": {},
   "outputs": [
    {
     "data": {
      "text/plain": [
       "['IPL Bowling Data.joblib']"
      ]
     },
     "execution_count": 50,
     "metadata": {},
     "output_type": "execute_result"
    }
   ],
   "source": [
    "arg=(model,my_pipeline)\n",
    "from joblib import dump, load\n",
    "dump(arg, 'IPL Bowling Data.joblib') "
   ]
  },
  {
   "cell_type": "markdown",
   "id": "3eca2613",
   "metadata": {},
   "source": [
    "# Testing the model on test data"
   ]
  },
  {
   "cell_type": "code",
   "execution_count": 51,
   "id": "da824b7e",
   "metadata": {},
   "outputs": [
    {
     "name": "stdout",
     "output_type": "stream",
     "text": [
      "[26.67836538 18.06911825 38.45614686 33.88063848  6.92721547 50.13982707\n",
      " 30.09858591 23.83253713 45.02605148  7.87909074 22.03655768 19.08433446\n",
      " 24.89131596 28.91752917 32.15501902 27.97211458 20.89573633 24.09723893\n",
      " 18.98774719 15.92067116 41.37686267 42.41503044 35.94882426 44.99397413\n",
      " 34.90185617 26.18121759 45.2544018  22.05495127 43.14762279 33.04420356\n",
      " 14.01688618 36.89647878 16.03037771 26.1048092  28.96999144 55.6626446\n",
      " 14.14157705 36.08624509 30.97464899 35.87715676 14.96014932 27.11035744\n",
      " 47.02608101 37.04644725 42.06241937 28.08859233 31.07683634 26.8270096\n",
      " 38.37014077 10.94343901 13.94467063 32.94683941 47.06082636 52.00871987\n",
      " 30.94460611 35.19693864 32.02476251 20.96556226 41.21745398 30.06669259\n",
      "  0.7263455  28.07348962 17.84734568 35.90644066 11.03228787 18.80674981\n",
      " 36.17155926 34.09175226 23.87421807 18.16596205 29.19906042 39.99837446\n",
      " 23.83466165 45.80414319 13.91454275 35.96622227 10.93461452 31.93001941\n",
      " 18.9279541  25.90714049 19.99353541 35.03161302 11.98965951 22.86819655\n",
      " 18.90732272 15.06925445 24.01801449 45.15045448 22.95473167 30.13419856\n",
      " 46.14951086 34.93342608  9.87015033 16.9842753  52.15987655 37.82780622\n",
      " 49.92843234 41.26853439 23.18991151 17.38592293 26.03686706 29.92363667\n",
      "  7.84803082 36.96878801 24.00563528 38.09001258 33.00431783 32.10499954\n",
      " 36.06595124 29.80667276 20.00163219 46.23851799 31.04479773 26.07136491\n",
      " 20.99237781 21.94698745 11.82390674 26.0765883  16.9285467  21.20163627\n",
      " 24.94975919  4.82701216 29.09470782 32.96061514 27.7870049  48.95872499\n",
      " 17.89849435 20.89358284 22.94318971 27.03701073 26.89846415 26.01786806\n",
      " 17.92105158 22.17045902 26.10253607 23.00831334 24.99264056 28.9233175\n",
      " 21.93496854 33.93900224 48.8261445  34.2594086  39.03763171 39.25225865\n",
      " 35.21459892 27.05508368 42.08498487 23.24316054 37.08462816 30.91664911\n",
      " 11.77917106 23.07471102 36.1465681   6.93167638 51.07557611 19.72834865\n",
      " 26.17964166  7.82392906 39.83348171 40.02514642 47.92916753 24.78121288\n",
      " 18.95715457 34.0433352  19.75911    33.94572799  9.98671268 14.93874949\n",
      "  5.98436658 24.92617622 30.35623432 42.87694553] [28, 18, 40, 34, 7, 50, 30, 24, 45, 8, 22, 19, 25, 29, 32, 28, 21, 24, 19, 16, 43, 40, 36, 45, 35, 26, 47, 22, 43, 33, 14, 37, 16, 26, 29, 59, 14, 36, 31, 36, 15, 27, 47, 35, 42, 29, 31, 27, 40, 11, 14, 33, 47, 52, 31, 35, 33, 21, 39, 31, 1, 28, 18, 36, 11, 19, 36, 34, 24, 18, 29, 40, 24, 45, 14, 36, 11, 32, 19, 26, 22, 35, 12, 23, 19, 15, 24, 45, 23, 30, 46, 36, 10, 17, 52, 38, 50, 42, 23, 17, 26, 30, 8, 37, 24, 38, 33, 32, 36, 30, 20, 48, 31, 26, 21, 22, 12, 26, 17, 21, 25, 5, 29, 34, 28, 49, 18, 21, 23, 27, 27, 27, 18, 20, 26, 23, 25, 29, 22, 34, 48, 34, 39, 39, 33, 27, 42, 23, 36, 31, 12, 23, 36, 7, 51, 20, 24, 8, 37, 40, 48, 25, 19, 35, 20, 34, 10, 15, 6, 25, 32, 42]\n"
     ]
    }
   ],
   "source": [
    "X_test = strat_test_set.drop(\"Runs\", axis=1)\n",
    "Y_test = strat_test_set[\"Runs\"].copy()\n",
    "X_test_prepared = my_pipeline.transform(X_test)\n",
    "final_predictions = model.predict(X_test_prepared)\n",
    "final_mse = mean_squared_error(Y_test, final_predictions)\n",
    "final_rmse = np.sqrt(final_mse)\n",
    "print(final_predictions, list(Y_test))"
   ]
  },
  {
   "cell_type": "code",
   "execution_count": 52,
   "id": "557d4e36",
   "metadata": {},
   "outputs": [
    {
     "data": {
      "text/plain": [
       "0.6959603001138612"
      ]
     },
     "execution_count": 52,
     "metadata": {},
     "output_type": "execute_result"
    }
   ],
   "source": [
    "final_rmse"
   ]
  },
  {
   "cell_type": "code",
   "execution_count": 53,
   "id": "e78969f7",
   "metadata": {},
   "outputs": [
    {
     "data": {
      "text/plain": [
       "array([[-0.723559  ,  1.00732611, -1.32011167, -0.18281768, -0.91481236,\n",
       "        -0.74546289, -0.27900097,  0.36491183,  0.91439071, -1.33480385,\n",
       "        -1.46848967, -0.39540507, -0.14862308, -0.23165199,  0.33432599,\n",
       "        -1.09488122, -0.99247248],\n",
       "       [ 0.07441851, -0.99272718,  0.67520275, -0.18281768,  0.02751315,\n",
       "        -0.74546289, -0.27900097, -0.14016046,  0.91439071,  0.67032912,\n",
       "        -0.44932511,  1.52164983,  0.69275551, -0.23165199, -0.79940323,\n",
       "         0.64726428,  1.48167305],\n",
       "       [-1.42765681,  1.00732611,  0.67520275, -0.18281768,  0.96983866,\n",
       "         2.07576407, -0.27900097, -0.28446683,  1.49813501,  0.67032912,\n",
       "         0.31504832,  0.1523249 ,  3.2168913 , -0.23165199, -0.79940323,\n",
       "        -0.22380847,  0.24460029],\n",
       "       [ 0.40299749,  1.00732611, -0.32245446, -0.18281768,  0.02751315,\n",
       "        -0.74546289, -0.27900097,  0.94213731, -0.25309789, -0.33223736,\n",
       "        -0.95890739,  0.1523249 , -0.14862308, -0.23165199, -0.23253862,\n",
       "         1.51833702,  0.86313667],\n",
       "       [-0.58273944,  1.00732611, -0.32245446, -0.18281768, -0.91481236,\n",
       "        -0.74546289, -0.27900097,  1.80797552,  0.91439071, -0.33223736,\n",
       "        -1.46848967,  0.42618989, -0.99000167, -0.23165199,  0.33432599,\n",
       "         2.38940977, -0.99247248]])"
      ]
     },
     "execution_count": 53,
     "metadata": {},
     "output_type": "execute_result"
    }
   ],
   "source": [
    "prepared_data"
   ]
  },
  {
   "cell_type": "code",
   "execution_count": 54,
   "id": "13bc4a0a",
   "metadata": {},
   "outputs": [
    {
     "data": {
      "text/plain": [
       "array([-0.723559  ,  1.00732611, -1.32011167, -0.18281768, -0.91481236,\n",
       "       -0.74546289, -0.27900097,  0.36491183,  0.91439071, -1.33480385,\n",
       "       -1.46848967, -0.39540507, -0.14862308, -0.23165199,  0.33432599,\n",
       "       -1.09488122, -0.99247248])"
      ]
     },
     "execution_count": 54,
     "metadata": {},
     "output_type": "execute_result"
    }
   ],
   "source": [
    "prepared_data[0]"
   ]
  },
  {
   "cell_type": "markdown",
   "id": "d24e32f3",
   "metadata": {},
   "source": [
    "# Using the model"
   ]
  },
  {
   "cell_type": "code",
   "execution_count": 55,
   "id": "a8ddbdda",
   "metadata": {},
   "outputs": [
    {
     "data": {
      "text/plain": [
       "array([19.88694396])"
      ]
     },
     "execution_count": 55,
     "metadata": {},
     "output_type": "execute_result"
    }
   ],
   "source": [
    "from joblib import dump, load\n",
    "import numpy as np\n",
    "model,pipe = load('IPL Bowling Data.joblib') \n",
    "features = np.array([[-0.723559  ,  1.00732611, -1.32011167, -0.18281768, -0.91481236,\n",
    "       -0.74546289, -0.27900097,  0.36491183,  0.91439071, -1.33480385,\n",
    "       -1.46848967, -0.39540507, -0.14862308, -0.23165199,  0.33432599,\n",
    "       -1.09488122, -0.99247248]])\n",
    "model.predict(features)"
   ]
  },
  {
   "cell_type": "code",
   "execution_count": null,
   "id": "9af8d72e",
   "metadata": {},
   "outputs": [],
   "source": []
  }
 ],
 "metadata": {
  "kernelspec": {
   "display_name": "Python 3 (ipykernel)",
   "language": "python",
   "name": "python3"
  },
  "language_info": {
   "codemirror_mode": {
    "name": "ipython",
    "version": 3
   },
   "file_extension": ".py",
   "mimetype": "text/x-python",
   "name": "python",
   "nbconvert_exporter": "python",
   "pygments_lexer": "ipython3",
   "version": "3.10.4"
  }
 },
 "nbformat": 4,
 "nbformat_minor": 5
}
